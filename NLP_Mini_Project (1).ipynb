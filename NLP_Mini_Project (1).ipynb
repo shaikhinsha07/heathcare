{
  "cells": [
    {
      "cell_type": "code",
      "execution_count": null,
      "metadata": {
        "id": "hpYADeq9Awrf"
      },
      "outputs": [],
      "source": [
        "import pandas as pd\n",
        "import numpy as np\n",
        "from nltk.corpus import wordnet as wn \n",
        "import csv\n",
        "import json\n"
      ]
    },
    {
      "cell_type": "code",
      "execution_count": null,
      "metadata": {
        "id": "tuk-2gWmBYHN"
      },
      "outputs": [],
      "source": [
        "data={\"users\":[]}\n",
        "with open('DATA.json', 'w') as outfile:\n",
        "    json.dump(data, outfile)"
      ]
    },
    {
      "cell_type": "code",
      "execution_count": null,
      "metadata": {
        "id": "jeXZ_i7RBgt4"
      },
      "outputs": [],
      "source": [
        "def write_json(new_data, filename='DATA.json'):\n",
        "    with open(filename,'r+') as file:\n",
        "          # First we load existing data into a dict.\n",
        "        file_data = json.load(file)\n",
        "        # Join new_data with file_data inside emp_details\n",
        "        file_data[\"users\"].append(new_data)\n",
        "        # Sets file's current position at offset.\n",
        "        file.seek(0)\n",
        "        # convert back to json.\n",
        "        json.dump(file_data, file, indent = 4)\n",
        " "
      ]
    },
    {
      "cell_type": "code",
      "execution_count": null,
      "metadata": {
        "id": "lNpAl6OWBlVw"
      },
      "outputs": [],
      "source": [
        "df_tr=pd.read_csv('/content/Training.csv')"
      ]
    },
    {
      "cell_type": "code",
      "execution_count": null,
      "metadata": {
        "colab": {
          "base_uri": "https://localhost:8080/",
          "height": 386
        },
        "id": "SAr2tSy4BoeR",
        "outputId": "a3c8b25f-fee7-44f7-fc41-7e061c6ad68c"
      },
      "outputs": [
        {
          "data": {
            "text/html": [
              "\n",
              "  <div id=\"df-ebc9a218-d93f-46e9-a457-52158f9711ae\">\n",
              "    <div class=\"colab-df-container\">\n",
              "      <div>\n",
              "<style scoped>\n",
              "    .dataframe tbody tr th:only-of-type {\n",
              "        vertical-align: middle;\n",
              "    }\n",
              "\n",
              "    .dataframe tbody tr th {\n",
              "        vertical-align: top;\n",
              "    }\n",
              "\n",
              "    .dataframe thead th {\n",
              "        text-align: right;\n",
              "    }\n",
              "</style>\n",
              "<table border=\"1\" class=\"dataframe\">\n",
              "  <thead>\n",
              "    <tr style=\"text-align: right;\">\n",
              "      <th></th>\n",
              "      <th>itching</th>\n",
              "      <th>skin_rash</th>\n",
              "      <th>nodal_skin_eruptions</th>\n",
              "      <th>continuous_sneezing</th>\n",
              "      <th>shivering</th>\n",
              "      <th>chills</th>\n",
              "      <th>joint_pain</th>\n",
              "      <th>stomach_pain</th>\n",
              "      <th>acidity</th>\n",
              "      <th>ulcers_on_tongue</th>\n",
              "      <th>...</th>\n",
              "      <th>blackheads</th>\n",
              "      <th>scurring</th>\n",
              "      <th>skin_peeling</th>\n",
              "      <th>silver_like_dusting</th>\n",
              "      <th>small_dents_in_nails</th>\n",
              "      <th>inflammatory_nails</th>\n",
              "      <th>blister</th>\n",
              "      <th>red_sore_around_nose</th>\n",
              "      <th>yellow_crust_ooze</th>\n",
              "      <th>prognosis</th>\n",
              "    </tr>\n",
              "  </thead>\n",
              "  <tbody>\n",
              "    <tr>\n",
              "      <th>0</th>\n",
              "      <td>1</td>\n",
              "      <td>1</td>\n",
              "      <td>1</td>\n",
              "      <td>0</td>\n",
              "      <td>0</td>\n",
              "      <td>0</td>\n",
              "      <td>0</td>\n",
              "      <td>0</td>\n",
              "      <td>0</td>\n",
              "      <td>0</td>\n",
              "      <td>...</td>\n",
              "      <td>0</td>\n",
              "      <td>0</td>\n",
              "      <td>0</td>\n",
              "      <td>0</td>\n",
              "      <td>0</td>\n",
              "      <td>0</td>\n",
              "      <td>0</td>\n",
              "      <td>0</td>\n",
              "      <td>0</td>\n",
              "      <td>Fungal infection</td>\n",
              "    </tr>\n",
              "    <tr>\n",
              "      <th>1</th>\n",
              "      <td>0</td>\n",
              "      <td>1</td>\n",
              "      <td>1</td>\n",
              "      <td>0</td>\n",
              "      <td>0</td>\n",
              "      <td>0</td>\n",
              "      <td>0</td>\n",
              "      <td>0</td>\n",
              "      <td>0</td>\n",
              "      <td>0</td>\n",
              "      <td>...</td>\n",
              "      <td>0</td>\n",
              "      <td>0</td>\n",
              "      <td>0</td>\n",
              "      <td>0</td>\n",
              "      <td>0</td>\n",
              "      <td>0</td>\n",
              "      <td>0</td>\n",
              "      <td>0</td>\n",
              "      <td>0</td>\n",
              "      <td>Fungal infection</td>\n",
              "    </tr>\n",
              "    <tr>\n",
              "      <th>2</th>\n",
              "      <td>1</td>\n",
              "      <td>0</td>\n",
              "      <td>1</td>\n",
              "      <td>0</td>\n",
              "      <td>0</td>\n",
              "      <td>0</td>\n",
              "      <td>0</td>\n",
              "      <td>0</td>\n",
              "      <td>0</td>\n",
              "      <td>0</td>\n",
              "      <td>...</td>\n",
              "      <td>0</td>\n",
              "      <td>0</td>\n",
              "      <td>0</td>\n",
              "      <td>0</td>\n",
              "      <td>0</td>\n",
              "      <td>0</td>\n",
              "      <td>0</td>\n",
              "      <td>0</td>\n",
              "      <td>0</td>\n",
              "      <td>Fungal infection</td>\n",
              "    </tr>\n",
              "    <tr>\n",
              "      <th>3</th>\n",
              "      <td>1</td>\n",
              "      <td>1</td>\n",
              "      <td>0</td>\n",
              "      <td>0</td>\n",
              "      <td>0</td>\n",
              "      <td>0</td>\n",
              "      <td>0</td>\n",
              "      <td>0</td>\n",
              "      <td>0</td>\n",
              "      <td>0</td>\n",
              "      <td>...</td>\n",
              "      <td>0</td>\n",
              "      <td>0</td>\n",
              "      <td>0</td>\n",
              "      <td>0</td>\n",
              "      <td>0</td>\n",
              "      <td>0</td>\n",
              "      <td>0</td>\n",
              "      <td>0</td>\n",
              "      <td>0</td>\n",
              "      <td>Fungal infection</td>\n",
              "    </tr>\n",
              "    <tr>\n",
              "      <th>4</th>\n",
              "      <td>1</td>\n",
              "      <td>1</td>\n",
              "      <td>1</td>\n",
              "      <td>0</td>\n",
              "      <td>0</td>\n",
              "      <td>0</td>\n",
              "      <td>0</td>\n",
              "      <td>0</td>\n",
              "      <td>0</td>\n",
              "      <td>0</td>\n",
              "      <td>...</td>\n",
              "      <td>0</td>\n",
              "      <td>0</td>\n",
              "      <td>0</td>\n",
              "      <td>0</td>\n",
              "      <td>0</td>\n",
              "      <td>0</td>\n",
              "      <td>0</td>\n",
              "      <td>0</td>\n",
              "      <td>0</td>\n",
              "      <td>Fungal infection</td>\n",
              "    </tr>\n",
              "  </tbody>\n",
              "</table>\n",
              "<p>5 rows × 133 columns</p>\n",
              "</div>\n",
              "      <button class=\"colab-df-convert\" onclick=\"convertToInteractive('df-ebc9a218-d93f-46e9-a457-52158f9711ae')\"\n",
              "              title=\"Convert this dataframe to an interactive table.\"\n",
              "              style=\"display:none;\">\n",
              "        \n",
              "  <svg xmlns=\"http://www.w3.org/2000/svg\" height=\"24px\"viewBox=\"0 0 24 24\"\n",
              "       width=\"24px\">\n",
              "    <path d=\"M0 0h24v24H0V0z\" fill=\"none\"/>\n",
              "    <path d=\"M18.56 5.44l.94 2.06.94-2.06 2.06-.94-2.06-.94-.94-2.06-.94 2.06-2.06.94zm-11 1L8.5 8.5l.94-2.06 2.06-.94-2.06-.94L8.5 2.5l-.94 2.06-2.06.94zm10 10l.94 2.06.94-2.06 2.06-.94-2.06-.94-.94-2.06-.94 2.06-2.06.94z\"/><path d=\"M17.41 7.96l-1.37-1.37c-.4-.4-.92-.59-1.43-.59-.52 0-1.04.2-1.43.59L10.3 9.45l-7.72 7.72c-.78.78-.78 2.05 0 2.83L4 21.41c.39.39.9.59 1.41.59.51 0 1.02-.2 1.41-.59l7.78-7.78 2.81-2.81c.8-.78.8-2.07 0-2.86zM5.41 20L4 18.59l7.72-7.72 1.47 1.35L5.41 20z\"/>\n",
              "  </svg>\n",
              "      </button>\n",
              "      \n",
              "  <style>\n",
              "    .colab-df-container {\n",
              "      display:flex;\n",
              "      flex-wrap:wrap;\n",
              "      gap: 12px;\n",
              "    }\n",
              "\n",
              "    .colab-df-convert {\n",
              "      background-color: #E8F0FE;\n",
              "      border: none;\n",
              "      border-radius: 50%;\n",
              "      cursor: pointer;\n",
              "      display: none;\n",
              "      fill: #1967D2;\n",
              "      height: 32px;\n",
              "      padding: 0 0 0 0;\n",
              "      width: 32px;\n",
              "    }\n",
              "\n",
              "    .colab-df-convert:hover {\n",
              "      background-color: #E2EBFA;\n",
              "      box-shadow: 0px 1px 2px rgba(60, 64, 67, 0.3), 0px 1px 3px 1px rgba(60, 64, 67, 0.15);\n",
              "      fill: #174EA6;\n",
              "    }\n",
              "\n",
              "    [theme=dark] .colab-df-convert {\n",
              "      background-color: #3B4455;\n",
              "      fill: #D2E3FC;\n",
              "    }\n",
              "\n",
              "    [theme=dark] .colab-df-convert:hover {\n",
              "      background-color: #434B5C;\n",
              "      box-shadow: 0px 1px 3px 1px rgba(0, 0, 0, 0.15);\n",
              "      filter: drop-shadow(0px 1px 2px rgba(0, 0, 0, 0.3));\n",
              "      fill: #FFFFFF;\n",
              "    }\n",
              "  </style>\n",
              "\n",
              "      <script>\n",
              "        const buttonEl =\n",
              "          document.querySelector('#df-ebc9a218-d93f-46e9-a457-52158f9711ae button.colab-df-convert');\n",
              "        buttonEl.style.display =\n",
              "          google.colab.kernel.accessAllowed ? 'block' : 'none';\n",
              "\n",
              "        async function convertToInteractive(key) {\n",
              "          const element = document.querySelector('#df-ebc9a218-d93f-46e9-a457-52158f9711ae');\n",
              "          const dataTable =\n",
              "            await google.colab.kernel.invokeFunction('convertToInteractive',\n",
              "                                                     [key], {});\n",
              "          if (!dataTable) return;\n",
              "\n",
              "          const docLinkHtml = 'Like what you see? Visit the ' +\n",
              "            '<a target=\"_blank\" href=https://colab.research.google.com/notebooks/data_table.ipynb>data table notebook</a>'\n",
              "            + ' to learn more about interactive tables.';\n",
              "          element.innerHTML = '';\n",
              "          dataTable['output_type'] = 'display_data';\n",
              "          await google.colab.output.renderOutput(dataTable, element);\n",
              "          const docLink = document.createElement('div');\n",
              "          docLink.innerHTML = docLinkHtml;\n",
              "          element.appendChild(docLink);\n",
              "        }\n",
              "      </script>\n",
              "    </div>\n",
              "  </div>\n",
              "  "
            ],
            "text/plain": [
              "   itching  skin_rash  nodal_skin_eruptions  continuous_sneezing  shivering  \\\n",
              "0        1          1                     1                    0          0   \n",
              "1        0          1                     1                    0          0   \n",
              "2        1          0                     1                    0          0   \n",
              "3        1          1                     0                    0          0   \n",
              "4        1          1                     1                    0          0   \n",
              "\n",
              "   chills  joint_pain  stomach_pain  acidity  ulcers_on_tongue  ...  \\\n",
              "0       0           0             0        0                 0  ...   \n",
              "1       0           0             0        0                 0  ...   \n",
              "2       0           0             0        0                 0  ...   \n",
              "3       0           0             0        0                 0  ...   \n",
              "4       0           0             0        0                 0  ...   \n",
              "\n",
              "   blackheads  scurring  skin_peeling  silver_like_dusting  \\\n",
              "0           0         0             0                    0   \n",
              "1           0         0             0                    0   \n",
              "2           0         0             0                    0   \n",
              "3           0         0             0                    0   \n",
              "4           0         0             0                    0   \n",
              "\n",
              "   small_dents_in_nails  inflammatory_nails  blister  red_sore_around_nose  \\\n",
              "0                     0                   0        0                     0   \n",
              "1                     0                   0        0                     0   \n",
              "2                     0                   0        0                     0   \n",
              "3                     0                   0        0                     0   \n",
              "4                     0                   0        0                     0   \n",
              "\n",
              "   yellow_crust_ooze         prognosis  \n",
              "0                  0  Fungal infection  \n",
              "1                  0  Fungal infection  \n",
              "2                  0  Fungal infection  \n",
              "3                  0  Fungal infection  \n",
              "4                  0  Fungal infection  \n",
              "\n",
              "[5 rows x 133 columns]"
            ]
          },
          "execution_count": 5,
          "metadata": {},
          "output_type": "execute_result"
        }
      ],
      "source": [
        "df_tr.head()"
      ]
    },
    {
      "cell_type": "code",
      "execution_count": null,
      "metadata": {
        "colab": {
          "base_uri": "https://localhost:8080/"
        },
        "id": "WQGdcL9jCUaq",
        "outputId": "5171a7e7-7d12-4d2f-a9a4-083afe2b5be1"
      },
      "outputs": [
        {
          "data": {
            "text/plain": [
              "(4920, 133)"
            ]
          },
          "execution_count": 6,
          "metadata": {},
          "output_type": "execute_result"
        }
      ],
      "source": [
        "df_tr.shape"
      ]
    },
    {
      "cell_type": "code",
      "execution_count": null,
      "metadata": {
        "colab": {
          "base_uri": "https://localhost:8080/"
        },
        "id": "aXwxkX7sCU-r",
        "outputId": "85e374b5-91de-4119-ac71-e18c63f97fcf"
      },
      "outputs": [
        {
          "data": {
            "text/plain": [
              "itching                        0\n",
              "skin_rash                      1\n",
              "nodal_skin_eruptions           0\n",
              "continuous_sneezing            0\n",
              "shivering                      0\n",
              "                          ...   \n",
              "inflammatory_nails             0\n",
              "blister                        1\n",
              "red_sore_around_nose           1\n",
              "yellow_crust_ooze              1\n",
              "prognosis               Impetigo\n",
              "Name: 4919, Length: 133, dtype: object"
            ]
          },
          "execution_count": 7,
          "metadata": {},
          "output_type": "execute_result"
        }
      ],
      "source": [
        "df_tr.iloc[-1]\n"
      ]
    },
    {
      "cell_type": "code",
      "execution_count": null,
      "metadata": {
        "id": "GrF21B0QCYIE"
      },
      "outputs": [],
      "source": [
        "df_tt=pd.read_csv('/content/Testing.csv')"
      ]
    },
    {
      "cell_type": "code",
      "execution_count": null,
      "metadata": {
        "colab": {
          "base_uri": "https://localhost:8080/",
          "height": 352
        },
        "id": "Jr5pda38CkRR",
        "outputId": "77ff0f2c-94ab-4c31-daac-20e1b395db0c"
      },
      "outputs": [
        {
          "data": {
            "text/html": [
              "\n",
              "  <div id=\"df-5167ef2b-9cb5-4dfb-8187-09d72cae0680\">\n",
              "    <div class=\"colab-df-container\">\n",
              "      <div>\n",
              "<style scoped>\n",
              "    .dataframe tbody tr th:only-of-type {\n",
              "        vertical-align: middle;\n",
              "    }\n",
              "\n",
              "    .dataframe tbody tr th {\n",
              "        vertical-align: top;\n",
              "    }\n",
              "\n",
              "    .dataframe thead th {\n",
              "        text-align: right;\n",
              "    }\n",
              "</style>\n",
              "<table border=\"1\" class=\"dataframe\">\n",
              "  <thead>\n",
              "    <tr style=\"text-align: right;\">\n",
              "      <th></th>\n",
              "      <th>itching</th>\n",
              "      <th>skin_rash</th>\n",
              "      <th>nodal_skin_eruptions</th>\n",
              "      <th>continuous_sneezing</th>\n",
              "      <th>shivering</th>\n",
              "      <th>chills</th>\n",
              "      <th>joint_pain</th>\n",
              "      <th>stomach_pain</th>\n",
              "      <th>acidity</th>\n",
              "      <th>ulcers_on_tongue</th>\n",
              "      <th>...</th>\n",
              "      <th>blackheads</th>\n",
              "      <th>scurring</th>\n",
              "      <th>skin_peeling</th>\n",
              "      <th>silver_like_dusting</th>\n",
              "      <th>small_dents_in_nails</th>\n",
              "      <th>inflammatory_nails</th>\n",
              "      <th>blister</th>\n",
              "      <th>red_sore_around_nose</th>\n",
              "      <th>yellow_crust_ooze</th>\n",
              "      <th>prognosis</th>\n",
              "    </tr>\n",
              "  </thead>\n",
              "  <tbody>\n",
              "    <tr>\n",
              "      <th>0</th>\n",
              "      <td>1</td>\n",
              "      <td>1</td>\n",
              "      <td>1</td>\n",
              "      <td>0</td>\n",
              "      <td>0</td>\n",
              "      <td>0</td>\n",
              "      <td>0</td>\n",
              "      <td>0</td>\n",
              "      <td>0</td>\n",
              "      <td>0</td>\n",
              "      <td>...</td>\n",
              "      <td>0</td>\n",
              "      <td>0</td>\n",
              "      <td>0</td>\n",
              "      <td>0</td>\n",
              "      <td>0</td>\n",
              "      <td>0</td>\n",
              "      <td>0</td>\n",
              "      <td>0</td>\n",
              "      <td>0</td>\n",
              "      <td>Fungal infection</td>\n",
              "    </tr>\n",
              "    <tr>\n",
              "      <th>1</th>\n",
              "      <td>0</td>\n",
              "      <td>0</td>\n",
              "      <td>0</td>\n",
              "      <td>1</td>\n",
              "      <td>1</td>\n",
              "      <td>1</td>\n",
              "      <td>0</td>\n",
              "      <td>0</td>\n",
              "      <td>0</td>\n",
              "      <td>0</td>\n",
              "      <td>...</td>\n",
              "      <td>0</td>\n",
              "      <td>0</td>\n",
              "      <td>0</td>\n",
              "      <td>0</td>\n",
              "      <td>0</td>\n",
              "      <td>0</td>\n",
              "      <td>0</td>\n",
              "      <td>0</td>\n",
              "      <td>0</td>\n",
              "      <td>Allergy</td>\n",
              "    </tr>\n",
              "    <tr>\n",
              "      <th>2</th>\n",
              "      <td>0</td>\n",
              "      <td>0</td>\n",
              "      <td>0</td>\n",
              "      <td>0</td>\n",
              "      <td>0</td>\n",
              "      <td>0</td>\n",
              "      <td>0</td>\n",
              "      <td>1</td>\n",
              "      <td>1</td>\n",
              "      <td>1</td>\n",
              "      <td>...</td>\n",
              "      <td>0</td>\n",
              "      <td>0</td>\n",
              "      <td>0</td>\n",
              "      <td>0</td>\n",
              "      <td>0</td>\n",
              "      <td>0</td>\n",
              "      <td>0</td>\n",
              "      <td>0</td>\n",
              "      <td>0</td>\n",
              "      <td>GERD</td>\n",
              "    </tr>\n",
              "    <tr>\n",
              "      <th>3</th>\n",
              "      <td>1</td>\n",
              "      <td>0</td>\n",
              "      <td>0</td>\n",
              "      <td>0</td>\n",
              "      <td>0</td>\n",
              "      <td>0</td>\n",
              "      <td>0</td>\n",
              "      <td>0</td>\n",
              "      <td>0</td>\n",
              "      <td>0</td>\n",
              "      <td>...</td>\n",
              "      <td>0</td>\n",
              "      <td>0</td>\n",
              "      <td>0</td>\n",
              "      <td>0</td>\n",
              "      <td>0</td>\n",
              "      <td>0</td>\n",
              "      <td>0</td>\n",
              "      <td>0</td>\n",
              "      <td>0</td>\n",
              "      <td>Chronic cholestasis</td>\n",
              "    </tr>\n",
              "    <tr>\n",
              "      <th>4</th>\n",
              "      <td>1</td>\n",
              "      <td>1</td>\n",
              "      <td>0</td>\n",
              "      <td>0</td>\n",
              "      <td>0</td>\n",
              "      <td>0</td>\n",
              "      <td>0</td>\n",
              "      <td>1</td>\n",
              "      <td>0</td>\n",
              "      <td>0</td>\n",
              "      <td>...</td>\n",
              "      <td>0</td>\n",
              "      <td>0</td>\n",
              "      <td>0</td>\n",
              "      <td>0</td>\n",
              "      <td>0</td>\n",
              "      <td>0</td>\n",
              "      <td>0</td>\n",
              "      <td>0</td>\n",
              "      <td>0</td>\n",
              "      <td>Drug Reaction</td>\n",
              "    </tr>\n",
              "  </tbody>\n",
              "</table>\n",
              "<p>5 rows × 133 columns</p>\n",
              "</div>\n",
              "      <button class=\"colab-df-convert\" onclick=\"convertToInteractive('df-5167ef2b-9cb5-4dfb-8187-09d72cae0680')\"\n",
              "              title=\"Convert this dataframe to an interactive table.\"\n",
              "              style=\"display:none;\">\n",
              "        \n",
              "  <svg xmlns=\"http://www.w3.org/2000/svg\" height=\"24px\"viewBox=\"0 0 24 24\"\n",
              "       width=\"24px\">\n",
              "    <path d=\"M0 0h24v24H0V0z\" fill=\"none\"/>\n",
              "    <path d=\"M18.56 5.44l.94 2.06.94-2.06 2.06-.94-2.06-.94-.94-2.06-.94 2.06-2.06.94zm-11 1L8.5 8.5l.94-2.06 2.06-.94-2.06-.94L8.5 2.5l-.94 2.06-2.06.94zm10 10l.94 2.06.94-2.06 2.06-.94-2.06-.94-.94-2.06-.94 2.06-2.06.94z\"/><path d=\"M17.41 7.96l-1.37-1.37c-.4-.4-.92-.59-1.43-.59-.52 0-1.04.2-1.43.59L10.3 9.45l-7.72 7.72c-.78.78-.78 2.05 0 2.83L4 21.41c.39.39.9.59 1.41.59.51 0 1.02-.2 1.41-.59l7.78-7.78 2.81-2.81c.8-.78.8-2.07 0-2.86zM5.41 20L4 18.59l7.72-7.72 1.47 1.35L5.41 20z\"/>\n",
              "  </svg>\n",
              "      </button>\n",
              "      \n",
              "  <style>\n",
              "    .colab-df-container {\n",
              "      display:flex;\n",
              "      flex-wrap:wrap;\n",
              "      gap: 12px;\n",
              "    }\n",
              "\n",
              "    .colab-df-convert {\n",
              "      background-color: #E8F0FE;\n",
              "      border: none;\n",
              "      border-radius: 50%;\n",
              "      cursor: pointer;\n",
              "      display: none;\n",
              "      fill: #1967D2;\n",
              "      height: 32px;\n",
              "      padding: 0 0 0 0;\n",
              "      width: 32px;\n",
              "    }\n",
              "\n",
              "    .colab-df-convert:hover {\n",
              "      background-color: #E2EBFA;\n",
              "      box-shadow: 0px 1px 2px rgba(60, 64, 67, 0.3), 0px 1px 3px 1px rgba(60, 64, 67, 0.15);\n",
              "      fill: #174EA6;\n",
              "    }\n",
              "\n",
              "    [theme=dark] .colab-df-convert {\n",
              "      background-color: #3B4455;\n",
              "      fill: #D2E3FC;\n",
              "    }\n",
              "\n",
              "    [theme=dark] .colab-df-convert:hover {\n",
              "      background-color: #434B5C;\n",
              "      box-shadow: 0px 1px 3px 1px rgba(0, 0, 0, 0.15);\n",
              "      filter: drop-shadow(0px 1px 2px rgba(0, 0, 0, 0.3));\n",
              "      fill: #FFFFFF;\n",
              "    }\n",
              "  </style>\n",
              "\n",
              "      <script>\n",
              "        const buttonEl =\n",
              "          document.querySelector('#df-5167ef2b-9cb5-4dfb-8187-09d72cae0680 button.colab-df-convert');\n",
              "        buttonEl.style.display =\n",
              "          google.colab.kernel.accessAllowed ? 'block' : 'none';\n",
              "\n",
              "        async function convertToInteractive(key) {\n",
              "          const element = document.querySelector('#df-5167ef2b-9cb5-4dfb-8187-09d72cae0680');\n",
              "          const dataTable =\n",
              "            await google.colab.kernel.invokeFunction('convertToInteractive',\n",
              "                                                     [key], {});\n",
              "          if (!dataTable) return;\n",
              "\n",
              "          const docLinkHtml = 'Like what you see? Visit the ' +\n",
              "            '<a target=\"_blank\" href=https://colab.research.google.com/notebooks/data_table.ipynb>data table notebook</a>'\n",
              "            + ' to learn more about interactive tables.';\n",
              "          element.innerHTML = '';\n",
              "          dataTable['output_type'] = 'display_data';\n",
              "          await google.colab.output.renderOutput(dataTable, element);\n",
              "          const docLink = document.createElement('div');\n",
              "          docLink.innerHTML = docLinkHtml;\n",
              "          element.appendChild(docLink);\n",
              "        }\n",
              "      </script>\n",
              "    </div>\n",
              "  </div>\n",
              "  "
            ],
            "text/plain": [
              "   itching  skin_rash  nodal_skin_eruptions  continuous_sneezing  shivering  \\\n",
              "0        1          1                     1                    0          0   \n",
              "1        0          0                     0                    1          1   \n",
              "2        0          0                     0                    0          0   \n",
              "3        1          0                     0                    0          0   \n",
              "4        1          1                     0                    0          0   \n",
              "\n",
              "   chills  joint_pain  stomach_pain  acidity  ulcers_on_tongue  ...  \\\n",
              "0       0           0             0        0                 0  ...   \n",
              "1       1           0             0        0                 0  ...   \n",
              "2       0           0             1        1                 1  ...   \n",
              "3       0           0             0        0                 0  ...   \n",
              "4       0           0             1        0                 0  ...   \n",
              "\n",
              "   blackheads  scurring  skin_peeling  silver_like_dusting  \\\n",
              "0           0         0             0                    0   \n",
              "1           0         0             0                    0   \n",
              "2           0         0             0                    0   \n",
              "3           0         0             0                    0   \n",
              "4           0         0             0                    0   \n",
              "\n",
              "   small_dents_in_nails  inflammatory_nails  blister  red_sore_around_nose  \\\n",
              "0                     0                   0        0                     0   \n",
              "1                     0                   0        0                     0   \n",
              "2                     0                   0        0                     0   \n",
              "3                     0                   0        0                     0   \n",
              "4                     0                   0        0                     0   \n",
              "\n",
              "   yellow_crust_ooze            prognosis  \n",
              "0                  0     Fungal infection  \n",
              "1                  0              Allergy  \n",
              "2                  0                 GERD  \n",
              "3                  0  Chronic cholestasis  \n",
              "4                  0        Drug Reaction  \n",
              "\n",
              "[5 rows x 133 columns]"
            ]
          },
          "execution_count": 9,
          "metadata": {},
          "output_type": "execute_result"
        }
      ],
      "source": [
        "df_tt.head()"
      ]
    },
    {
      "cell_type": "code",
      "execution_count": null,
      "metadata": {
        "id": "M6DskBepCmn8"
      },
      "outputs": [],
      "source": [
        "symp=[]\n",
        "disease=[]\n",
        "for i in range(len(df_tr)):\n",
        "    symp.append(df_tr.columns[df_tr.iloc[i]==1].to_list())\n",
        "    disease.append(df_tr.iloc[i,-1])"
      ]
    },
    {
      "cell_type": "code",
      "execution_count": null,
      "metadata": {
        "colab": {
          "base_uri": "https://localhost:8080/"
        },
        "id": "q132DNAmCpH6",
        "outputId": "1443ea37-f2c2-4ba1-9fe6-024a57dcfc55"
      },
      "outputs": [
        {
          "data": {
            "text/plain": [
              "['itching', 'skin_rash', 'nodal_skin_eruptions', 'dischromic _patches']"
            ]
          },
          "execution_count": 11,
          "metadata": {},
          "output_type": "execute_result"
        }
      ],
      "source": [
        "symp[0]"
      ]
    },
    {
      "cell_type": "code",
      "execution_count": null,
      "metadata": {
        "colab": {
          "base_uri": "https://localhost:8080/",
          "height": 35
        },
        "id": "3ZS0azs9CrVe",
        "outputId": "bbd838d1-83de-4c0d-dfdd-960f9b1d6fd9"
      },
      "outputs": [
        {
          "data": {
            "application/vnd.google.colaboratory.intrinsic+json": {
              "type": "string"
            },
            "text/plain": [
              "'Peptic ulcer diseae'"
            ]
          },
          "execution_count": 12,
          "metadata": {},
          "output_type": "execute_result"
        }
      ],
      "source": [
        "disease[50]"
      ]
    },
    {
      "cell_type": "code",
      "execution_count": null,
      "metadata": {
        "id": "XqtRzmLqCy6-"
      },
      "outputs": [],
      "source": [
        "all_symp_col=list(df_tr.columns[:-1])\n",
        "def clean_symp(sym):\n",
        "    return sym.replace('_',' ').replace('.1','').replace('(typhos)','').replace('yellowish','yellow').replace('yellowing','yellow')"
      ]
    },
    {
      "cell_type": "code",
      "execution_count": null,
      "metadata": {
        "id": "p7dpXsqoC5Po"
      },
      "outputs": [],
      "source": [
        "all_symp=[clean_symp(sym) for sym in (all_symp_col)]"
      ]
    },
    {
      "cell_type": "code",
      "execution_count": null,
      "metadata": {
        "colab": {
          "base_uri": "https://localhost:8080/"
        },
        "id": "ZauuaLgvC759",
        "outputId": "219d6bea-0a26-4fe5-edcc-4cb6899c2909"
      },
      "outputs": [
        {
          "name": "stderr",
          "output_type": "stream",
          "text": [
            "[nltk_data] Downloading package wordnet to /root/nltk_data...\n",
            "[nltk_data] Downloading package omw-1.4 to /root/nltk_data...\n"
          ]
        }
      ],
      "source": [
        "import nltk\n",
        "nltk.download('wordnet')\n",
        "nltk.download('omw-1.4')\n",
        "from nltk.corpus import wordnet as wn\n",
        "\n",
        "ohne_syns=[]\n",
        "mit_syns=[]\n",
        "for sym in all_symp:\n",
        "    if not wn.synsets(sym) :\n",
        "        ohne_syns.append(sym)\n",
        "    else:\n",
        "        mit_syns.append(sym)"
      ]
    },
    {
      "cell_type": "code",
      "execution_count": null,
      "metadata": {
        "colab": {
          "base_uri": "https://localhost:8080/"
        },
        "id": "RzmIff3aC-jz",
        "outputId": "5e605b91-c35b-46d8-f8de-7ca15f9d7300"
      },
      "outputs": [
        {
          "data": {
            "text/plain": [
              "33"
            ]
          },
          "execution_count": 16,
          "metadata": {},
          "output_type": "execute_result"
        }
      ],
      "source": [
        "len(mit_syns)"
      ]
    },
    {
      "cell_type": "code",
      "execution_count": null,
      "metadata": {
        "colab": {
          "base_uri": "https://localhost:8080/"
        },
        "id": "iUzXAgjvDxa0",
        "outputId": "c4acdc88-aef0-458a-e055-7c46bcd67704"
      },
      "outputs": [
        {
          "data": {
            "text/plain": [
              "99"
            ]
          },
          "execution_count": 17,
          "metadata": {},
          "output_type": "execute_result"
        }
      ],
      "source": [
        "len(ohne_syns)"
      ]
    },
    {
      "cell_type": "code",
      "execution_count": null,
      "metadata": {
        "id": "1NcjC8StDzzr"
      },
      "outputs": [],
      "source": [
        "from spacy.lang.en.stop_words import STOP_WORDS\n",
        "import spacy\n",
        "nlp = spacy.load('en_core_web_sm')"
      ]
    },
    {
      "cell_type": "code",
      "execution_count": null,
      "metadata": {
        "id": "1EsAVdkFD2Sa"
      },
      "outputs": [],
      "source": [
        "def preprocess(doc):\n",
        "    nlp_doc=nlp(doc)\n",
        "    d=[]\n",
        "    for token in nlp_doc:\n",
        "        if(not token.text.lower()  in STOP_WORDS and  token.text.isalpha()):\n",
        "            d.append(token.lemma_.lower() )\n",
        "    return ' '.join(d)"
      ]
    },
    {
      "cell_type": "code",
      "execution_count": null,
      "metadata": {
        "id": "r_2907YhD6Jq"
      },
      "outputs": [],
      "source": [
        "def preprocess_sym(doc):\n",
        "    nlp_doc=nlp(doc)\n",
        "    d=[]\n",
        "    for token in nlp_doc:\n",
        "        if(not token.text.lower()  in STOP_WORDS and  token.text.isalpha()):\n",
        "            d.append(token.lemma_.lower() )\n",
        "    return ' '.join(d)"
      ]
    },
    {
      "cell_type": "code",
      "execution_count": null,
      "metadata": {
        "colab": {
          "base_uri": "https://localhost:8080/",
          "height": 35
        },
        "id": "hVrIW5AHD9Gd",
        "outputId": "a5461460-8858-4377-fabe-22ee519de476"
      },
      "outputs": [
        {
          "data": {
            "application/vnd.google.colaboratory.intrinsic+json": {
              "type": "string"
            },
            "text/plain": [
              "'peel'"
            ]
          },
          "execution_count": 21,
          "metadata": {},
          "output_type": "execute_result"
        }
      ],
      "source": [
        "preprocess(\"peeling\")"
      ]
    },
    {
      "cell_type": "code",
      "execution_count": null,
      "metadata": {
        "id": "WdK540iKD_y4"
      },
      "outputs": [],
      "source": [
        "all_symp_pr=[preprocess_sym(sym) for sym in all_symp]"
      ]
    },
    {
      "cell_type": "code",
      "execution_count": null,
      "metadata": {
        "id": "Qnbck-LgEO7v"
      },
      "outputs": [],
      "source": [
        "col_dict = dict(zip(all_symp_pr, all_symp_col))"
      ]
    },
    {
      "cell_type": "code",
      "execution_count": null,
      "metadata": {
        "id": "-cys79YUESUP"
      },
      "outputs": [],
      "source": [
        "def jaccard_set(str1, str2):\n",
        "    list1=str1.split(' ')\n",
        "    list2=str2.split(' ')\n",
        "    intersection = len(list(set(list1).intersection(list2)))\n",
        "    union = (len(list1) + len(list2)) - intersection\n",
        "    return float(intersection) / union"
      ]
    },
    {
      "cell_type": "code",
      "execution_count": null,
      "metadata": {
        "id": "dwuGVfDCEVTP"
      },
      "outputs": [],
      "source": [
        "def syntactic_similarity(symp_t, corpus):\n",
        "    most_sim = []\n",
        "    poss_sym = []\n",
        "    for symp in corpus:\n",
        "        d = jaccard_set(symp_t, symp)\n",
        "        most_sim.append(d)\n",
        "    order = np.argsort(most_sim)[::-1].tolist()\n",
        "    for i in order:\n",
        "        if DoesExist(symp_t):\n",
        "            return 1, [corpus[i]]\n",
        "        if corpus[i] not in poss_sym and most_sim[i] != 0:\n",
        "            poss_sym.append(corpus[i])\n",
        "    if len(poss_sym):\n",
        "        return 1, poss_sym\n",
        "    else:\n",
        "        return 0, None"
      ]
    },
    {
      "cell_type": "code",
      "execution_count": null,
      "metadata": {
        "id": "MmbS0BShEYYW"
      },
      "outputs": [],
      "source": [
        "import itertools\n",
        "#Returns all the subsets of this set. This is a generator.\n",
        "def powerset(seq):\n",
        "    if len(seq) <= 1:\n",
        "        yield seq\n",
        "        yield []\n",
        "    else:\n",
        "        for item in powerset(seq[1:]):\n",
        "            yield [seq[0]]+item\n",
        "            yield item"
      ]
    },
    {
      "cell_type": "code",
      "execution_count": null,
      "metadata": {
        "id": "2KkavbinEbuz"
      },
      "outputs": [],
      "source": [
        "def sort(a):\n",
        "    for i in range(len(a)):\n",
        "        for j in range(i+1,len(a)):\n",
        "            if len(a[j])>len(a[i]):\n",
        "                a[i],a[j]=a[j],a[i]\n",
        "    a.pop()\n",
        "    return a\n"
      ]
    },
    {
      "cell_type": "code",
      "execution_count": null,
      "metadata": {
        "id": "PIYlTw9bEiZq"
      },
      "outputs": [],
      "source": [
        "def permutations(s):\n",
        "    permutations = list(itertools.permutations(s))\n",
        "    return([' '.join(permutation) for permutation in permutations])"
      ]
    },
    {
      "cell_type": "code",
      "execution_count": null,
      "metadata": {
        "id": "vRbPWAyEEkfg"
      },
      "outputs": [],
      "source": [
        "def DoesExist(txt):\n",
        "    txt=txt.split(' ')\n",
        "    combinations = [x for x in powerset(txt)]\n",
        "    sort(combinations)\n",
        "    for comb in combinations :\n",
        "        #print(permutations(comb))\n",
        "        for sym in permutations(comb):\n",
        "            if sym in all_symp_pr:\n",
        "                #print(sym)\n",
        "                return sym\n",
        "    return False"
      ]
    },
    {
      "cell_type": "code",
      "execution_count": null,
      "metadata": {
        "colab": {
          "base_uri": "https://localhost:8080/"
        },
        "id": "vRg16VxtEnbM",
        "outputId": "a13426f7-3cf4-45cc-ea41-369e2c8388b2"
      },
      "outputs": [
        {
          "data": {
            "text/plain": [
              "False"
            ]
          },
          "execution_count": 40,
          "metadata": {},
          "output_type": "execute_result"
        }
      ],
      "source": [
        "DoesExist('worried')"
      ]
    },
    {
      "cell_type": "code",
      "execution_count": null,
      "metadata": {
        "colab": {
          "base_uri": "https://localhost:8080/",
          "height": 35
        },
        "id": "HhHqGzoUEpjW",
        "outputId": "3c66964c-47cb-47c2-db18-d3c02b8e1762"
      },
      "outputs": [
        {
          "data": {
            "application/vnd.google.colaboratory.intrinsic+json": {
              "type": "string"
            },
            "text/plain": [
              "'worried'"
            ]
          },
          "execution_count": 41,
          "metadata": {},
          "output_type": "execute_result"
        }
      ],
      "source": [
        "preprocess('really worried')"
      ]
    },
    {
      "cell_type": "code",
      "execution_count": null,
      "metadata": {
        "colab": {
          "background_save": true,
          "base_uri": "https://localhost:8080/"
        },
        "id": "t8gjrQutEr-8",
        "outputId": "e9483c96-0e17-4222-b325-465cad3e3332"
      },
      "outputs": [
        {
          "data": {
            "text/plain": [
              "(0, None)"
            ]
          },
          "execution_count": 32,
          "metadata": {},
          "output_type": "execute_result"
        }
      ],
      "source": [
        "syntactic_similarity(preprocess('nervous') ,all_symp_pr)"
      ]
    },
    {
      "cell_type": "code",
      "execution_count": null,
      "metadata": {
        "id": "tmdmif1xEvUg"
      },
      "outputs": [],
      "source": [
        "def check_pattern(inp,dis_list):\n",
        "    import re\n",
        "    pred_list=[]\n",
        "    ptr=0\n",
        "    patt = \"^\" + inp + \"$\"\n",
        "    regexp = re.compile(inp)\n",
        "    for item in dis_list:\n",
        "        if regexp.search(item):\n",
        "            pred_list.append(item)\n",
        "    if(len(pred_list)>0):\n",
        "        return 1,pred_list\n",
        "    else:\n",
        "        return ptr,None"
      ]
    },
    {
      "cell_type": "code",
      "execution_count": null,
      "metadata": {
        "colab": {
          "base_uri": "https://localhost:8080/"
        },
        "id": "dXFQYT25EzL5",
        "outputId": "483c1b50-b6e2-4246-b557-4f1846dda72c"
      },
      "outputs": [
        {
          "data": {
            "text/plain": [
              "(1, ['brittle nail', 'small dent nail', 'inflammatory nail'])"
            ]
          },
          "execution_count": 44,
          "metadata": {},
          "output_type": "execute_result"
        }
      ],
      "source": [
        "check_pattern('nail',all_symp_pr)"
      ]
    },
    {
      "cell_type": "code",
      "execution_count": null,
      "metadata": {
        "id": "EkTUM2hlE0_m"
      },
      "outputs": [],
      "source": [
        "from nltk.wsd import lesk\n",
        "from nltk.tokenize import word_tokenize\n",
        "def WSD(word, context):\n",
        "    sens=lesk(context, word)\n",
        "    return sens"
      ]
    },
    {
      "cell_type": "code",
      "execution_count": null,
      "metadata": {
        "id": "AxA1c86nE43C"
      },
      "outputs": [],
      "source": [
        "def semanticD(doc1,doc2):\n",
        "    doc1_p=preprocess(doc1).split(' ')\n",
        "    doc2_p=preprocess_sym(doc2).split(' ')\n",
        "    score=0\n",
        "    for tock1 in doc1_p:\n",
        "        for tock2 in doc2_p:\n",
        "            syn1 = WSD(tock1,doc1)\n",
        "            syn2 = WSD(tock2,doc2)\n",
        "            #syn1=wn.synset(t)\n",
        "            if syn1 is not None and syn2 is not None :\n",
        "                x=syn1.wup_similarity(syn2)\n",
        "                if x is not None and x>0.1:\n",
        "                    score+=x\n",
        "    return score/(len(doc1_p)*len(doc2_p))"
      ]
    },
    {
      "cell_type": "code",
      "execution_count": null,
      "metadata": {
        "colab": {
          "base_uri": "https://localhost:8080/"
        },
        "id": "fGvjsrn0E62s",
        "outputId": "4580cd16-16ad-4ce9-9c12-c6023bab0e3a"
      },
      "outputs": [
        {
          "data": {
            "text/plain": [
              "0.2"
            ]
          },
          "execution_count": 47,
          "metadata": {},
          "output_type": "execute_result"
        }
      ],
      "source": [
        "semanticD('anxiety','nervous')"
      ]
    },
    {
      "cell_type": "code",
      "execution_count": null,
      "metadata": {
        "colab": {
          "base_uri": "https://localhost:8080/",
          "height": 52
        },
        "id": "pGVjJYRLE9Xe",
        "outputId": "39cf63e7-1034-4377-cedc-d65fc0e01edc"
      },
      "outputs": [
        {
          "data": {
            "application/vnd.google.colaboratory.intrinsic+json": {
              "type": "string"
            },
            "text/plain": [
              "'(psychiatry) a relatively permanent state of worry and nervousness occurring in a variety of mental disorders, usually accompanied by compulsive behavior or attacks of panic'"
            ]
          },
          "execution_count": 48,
          "metadata": {},
          "output_type": "execute_result"
        }
      ],
      "source": [
        "syna=wn.synsets('anxiety')\n",
        "syna[0].definition()"
      ]
    },
    {
      "cell_type": "code",
      "execution_count": null,
      "metadata": {
        "colab": {
          "base_uri": "https://localhost:8080/",
          "height": 35
        },
        "id": "Zle4ubXeFAo5",
        "outputId": "cd46dc8c-d4d2-4ab4-eb56-01f25b73734c"
      },
      "outputs": [
        {
          "data": {
            "application/vnd.google.colaboratory.intrinsic+json": {
              "type": "string"
            },
            "text/plain": [
              "'easily agitated'"
            ]
          },
          "execution_count": 49,
          "metadata": {},
          "output_type": "execute_result"
        }
      ],
      "source": [
        "synn=wn.synsets('nervous')\n",
        "synn[0].definition()"
      ]
    },
    {
      "cell_type": "code",
      "execution_count": null,
      "metadata": {
        "colab": {
          "base_uri": "https://localhost:8080/",
          "height": 176
        },
        "id": "BVeu6kmeFD8K",
        "outputId": "b248bd7a-9a62-4e74-dbd5-fbf9bac7be83"
      },
      "outputs": [
        {
          "data": {
            "text/html": [
              "\n",
              "  <div id=\"df-9fb9c379-2c29-42e6-b181-1c877a82c970\">\n",
              "    <div class=\"colab-df-container\">\n",
              "      <div>\n",
              "<style scoped>\n",
              "    .dataframe tbody tr th:only-of-type {\n",
              "        vertical-align: middle;\n",
              "    }\n",
              "\n",
              "    .dataframe tbody tr th {\n",
              "        vertical-align: top;\n",
              "    }\n",
              "\n",
              "    .dataframe thead th {\n",
              "        text-align: right;\n",
              "    }\n",
              "</style>\n",
              "<table border=\"1\" class=\"dataframe\">\n",
              "  <thead>\n",
              "    <tr style=\"text-align: right;\">\n",
              "      <th></th>\n",
              "      <th>0</th>\n",
              "      <th>1</th>\n",
              "      <th>2</th>\n",
              "      <th>3</th>\n",
              "      <th>4</th>\n",
              "      <th>5</th>\n",
              "      <th>6</th>\n",
              "      <th>7</th>\n",
              "      <th>8</th>\n",
              "      <th>9</th>\n",
              "      <th>10</th>\n",
              "      <th>11</th>\n",
              "      <th>12</th>\n",
              "      <th>13</th>\n",
              "      <th>14</th>\n",
              "      <th>15</th>\n",
              "      <th>16</th>\n",
              "      <th>17</th>\n",
              "      <th>18</th>\n",
              "      <th>19</th>\n",
              "    </tr>\n",
              "  </thead>\n",
              "  <tbody>\n",
              "    <tr>\n",
              "      <th>path</th>\n",
              "      <td>0.083333</td>\n",
              "      <td>0.083333</td>\n",
              "      <td>0.083333</td>\n",
              "      <td>0.083333</td>\n",
              "      <td>0.083333</td>\n",
              "      <td>0.333333</td>\n",
              "      <td>0.333333</td>\n",
              "      <td>0.333333</td>\n",
              "      <td>0.333333</td>\n",
              "      <td>0.333333</td>\n",
              "      <td>0.333333</td>\n",
              "      <td>0.333333</td>\n",
              "      <td>0.333333</td>\n",
              "      <td>0.333333</td>\n",
              "      <td>0.333333</td>\n",
              "      <td>0.333333</td>\n",
              "      <td>0.333333</td>\n",
              "      <td>0.333333</td>\n",
              "      <td>0.333333</td>\n",
              "      <td>0.333333</td>\n",
              "    </tr>\n",
              "    <tr>\n",
              "      <th>wup</th>\n",
              "      <td>0.153846</td>\n",
              "      <td>0.153846</td>\n",
              "      <td>0.153846</td>\n",
              "      <td>0.153846</td>\n",
              "      <td>0.153846</td>\n",
              "      <td>0.500000</td>\n",
              "      <td>0.500000</td>\n",
              "      <td>0.500000</td>\n",
              "      <td>0.500000</td>\n",
              "      <td>0.500000</td>\n",
              "      <td>0.500000</td>\n",
              "      <td>0.500000</td>\n",
              "      <td>0.500000</td>\n",
              "      <td>0.500000</td>\n",
              "      <td>0.500000</td>\n",
              "      <td>0.500000</td>\n",
              "      <td>0.500000</td>\n",
              "      <td>0.500000</td>\n",
              "      <td>0.500000</td>\n",
              "      <td>0.500000</td>\n",
              "    </tr>\n",
              "  </tbody>\n",
              "</table>\n",
              "</div>\n",
              "      <button class=\"colab-df-convert\" onclick=\"convertToInteractive('df-9fb9c379-2c29-42e6-b181-1c877a82c970')\"\n",
              "              title=\"Convert this dataframe to an interactive table.\"\n",
              "              style=\"display:none;\">\n",
              "        \n",
              "  <svg xmlns=\"http://www.w3.org/2000/svg\" height=\"24px\"viewBox=\"0 0 24 24\"\n",
              "       width=\"24px\">\n",
              "    <path d=\"M0 0h24v24H0V0z\" fill=\"none\"/>\n",
              "    <path d=\"M18.56 5.44l.94 2.06.94-2.06 2.06-.94-2.06-.94-.94-2.06-.94 2.06-2.06.94zm-11 1L8.5 8.5l.94-2.06 2.06-.94-2.06-.94L8.5 2.5l-.94 2.06-2.06.94zm10 10l.94 2.06.94-2.06 2.06-.94-2.06-.94-.94-2.06-.94 2.06-2.06.94z\"/><path d=\"M17.41 7.96l-1.37-1.37c-.4-.4-.92-.59-1.43-.59-.52 0-1.04.2-1.43.59L10.3 9.45l-7.72 7.72c-.78.78-.78 2.05 0 2.83L4 21.41c.39.39.9.59 1.41.59.51 0 1.02-.2 1.41-.59l7.78-7.78 2.81-2.81c.8-.78.8-2.07 0-2.86zM5.41 20L4 18.59l7.72-7.72 1.47 1.35L5.41 20z\"/>\n",
              "  </svg>\n",
              "      </button>\n",
              "      \n",
              "  <style>\n",
              "    .colab-df-container {\n",
              "      display:flex;\n",
              "      flex-wrap:wrap;\n",
              "      gap: 12px;\n",
              "    }\n",
              "\n",
              "    .colab-df-convert {\n",
              "      background-color: #E8F0FE;\n",
              "      border: none;\n",
              "      border-radius: 50%;\n",
              "      cursor: pointer;\n",
              "      display: none;\n",
              "      fill: #1967D2;\n",
              "      height: 32px;\n",
              "      padding: 0 0 0 0;\n",
              "      width: 32px;\n",
              "    }\n",
              "\n",
              "    .colab-df-convert:hover {\n",
              "      background-color: #E2EBFA;\n",
              "      box-shadow: 0px 1px 2px rgba(60, 64, 67, 0.3), 0px 1px 3px 1px rgba(60, 64, 67, 0.15);\n",
              "      fill: #174EA6;\n",
              "    }\n",
              "\n",
              "    [theme=dark] .colab-df-convert {\n",
              "      background-color: #3B4455;\n",
              "      fill: #D2E3FC;\n",
              "    }\n",
              "\n",
              "    [theme=dark] .colab-df-convert:hover {\n",
              "      background-color: #434B5C;\n",
              "      box-shadow: 0px 1px 3px 1px rgba(0, 0, 0, 0.15);\n",
              "      filter: drop-shadow(0px 1px 2px rgba(0, 0, 0, 0.3));\n",
              "      fill: #FFFFFF;\n",
              "    }\n",
              "  </style>\n",
              "\n",
              "      <script>\n",
              "        const buttonEl =\n",
              "          document.querySelector('#df-9fb9c379-2c29-42e6-b181-1c877a82c970 button.colab-df-convert');\n",
              "        buttonEl.style.display =\n",
              "          google.colab.kernel.accessAllowed ? 'block' : 'none';\n",
              "\n",
              "        async function convertToInteractive(key) {\n",
              "          const element = document.querySelector('#df-9fb9c379-2c29-42e6-b181-1c877a82c970');\n",
              "          const dataTable =\n",
              "            await google.colab.kernel.invokeFunction('convertToInteractive',\n",
              "                                                     [key], {});\n",
              "          if (!dataTable) return;\n",
              "\n",
              "          const docLinkHtml = 'Like what you see? Visit the ' +\n",
              "            '<a target=\"_blank\" href=https://colab.research.google.com/notebooks/data_table.ipynb>data table notebook</a>'\n",
              "            + ' to learn more about interactive tables.';\n",
              "          element.innerHTML = '';\n",
              "          dataTable['output_type'] = 'display_data';\n",
              "          await google.colab.output.renderOutput(dataTable, element);\n",
              "          const docLink = document.createElement('div');\n",
              "          docLink.innerHTML = docLinkHtml;\n",
              "          element.appendChild(docLink);\n",
              "        }\n",
              "      </script>\n",
              "    </div>\n",
              "  </div>\n",
              "  "
            ],
            "text/plain": [
              "            0         1         2         3         4         5         6   \\\n",
              "path  0.083333  0.083333  0.083333  0.083333  0.083333  0.333333  0.333333   \n",
              "wup   0.153846  0.153846  0.153846  0.153846  0.153846  0.500000  0.500000   \n",
              "\n",
              "            7         8         9         10        11        12        13  \\\n",
              "path  0.333333  0.333333  0.333333  0.333333  0.333333  0.333333  0.333333   \n",
              "wup   0.500000  0.500000  0.500000  0.500000  0.500000  0.500000  0.500000   \n",
              "\n",
              "            14        15        16        17        18        19  \n",
              "path  0.333333  0.333333  0.333333  0.333333  0.333333  0.333333  \n",
              "wup   0.500000  0.500000  0.500000  0.500000  0.500000  0.500000  "
            ]
          },
          "execution_count": 50,
          "metadata": {},
          "output_type": "execute_result"
        }
      ],
      "source": [
        "anxiety_synsets = wn.synsets(\"brittle\") \n",
        "nervous_synsets = wn.synsets(\"nervous\") \n",
        "path=[]\n",
        "wup=[]\n",
        "lch=[]\n",
        "\n",
        "\n",
        "for s1 in anxiety_synsets:\n",
        "    for s2 in nervous_synsets:\n",
        "        path.append(s1.path_similarity(s2))\n",
        "        wup.append(s1.wup_similarity(s2))\n",
        "        #lch.append(s1.lch_similarity(s2))\n",
        "        \n",
        "\n",
        "pd.DataFrame([path,wup],[\"path\",\"wup\"])"
      ]
    },
    {
      "cell_type": "code",
      "execution_count": null,
      "metadata": {
        "id": "mBAa19fMFKqB"
      },
      "outputs": [],
      "source": [
        "def semantic_similarity(symp_t,corpus):\n",
        "    max_sim=0\n",
        "    most_sim=None\n",
        "    for symp in corpus:\n",
        "        d=semanticD(symp_t,symp)\n",
        "        if d>max_sim:\n",
        "            most_sim=symp\n",
        "            max_sim=d\n",
        "    return max_sim,most_sim"
      ]
    },
    {
      "cell_type": "code",
      "execution_count": null,
      "metadata": {
        "colab": {
          "base_uri": "https://localhost:8080/"
        },
        "id": "GobL-qq-FOqb",
        "outputId": "9530014b-8bcf-4e15-8c19-f832079baf3c"
      },
      "outputs": [
        {
          "data": {
            "text/plain": [
              "(0.45, 'brittle nail')"
            ]
          },
          "execution_count": 52,
          "metadata": {},
          "output_type": "execute_result"
        }
      ],
      "source": [
        "semantic_similarity('nervous',all_symp_pr)"
      ]
    },
    {
      "cell_type": "code",
      "execution_count": null,
      "metadata": {
        "id": "_7GAP3cKFRV8"
      },
      "outputs": [],
      "source": [
        "all_symp_pr.sort()"
      ]
    },
    {
      "cell_type": "code",
      "execution_count": null,
      "metadata": {
        "colab": {
          "base_uri": "https://localhost:8080/"
        },
        "id": "NbPRpkQgFUuh",
        "outputId": "ab7ec577-5053-4e48-dcb1-daa9ba0f7511"
      },
      "outputs": [
        {
          "data": {
            "text/plain": [
              "['abdominal pain',\n",
              " 'abnormal menstruation',\n",
              " 'acidity',\n",
              " 'acute liver failure',\n",
              " 'altered sensorium',\n",
              " 'anxiety',\n",
              " 'belly pain',\n",
              " 'blackhead',\n",
              " 'bladder discomfort',\n",
              " 'blister',\n",
              " 'blood sputum',\n",
              " 'bloody stool',\n",
              " 'blur distorted vision',\n",
              " 'breathlessness',\n",
              " 'brittle nail',\n",
              " 'bruise',\n",
              " 'burn micturition',\n",
              " 'chest pain',\n",
              " 'chill',\n",
              " 'cold hand feet',\n",
              " 'coma',\n",
              " 'congestion',\n",
              " 'constipation',\n",
              " 'continuous feel urine',\n",
              " 'continuous sneeze',\n",
              " 'cough',\n",
              " 'cramp',\n",
              " 'dark urine',\n",
              " 'dehydration',\n",
              " 'depression',\n",
              " 'diarrhoea',\n",
              " 'dischromic patch',\n",
              " 'distention abdomen',\n",
              " 'dizziness',\n",
              " 'dry tingling lip',\n",
              " 'enlarge thyroid',\n",
              " 'excessive hunger',\n",
              " 'extra marital contact',\n",
              " 'family history',\n",
              " 'fast heart rate',\n",
              " 'fatigue',\n",
              " 'fluid overload',\n",
              " 'fluid overload',\n",
              " 'foul smell urine',\n",
              " 'headache',\n",
              " 'high fever',\n",
              " 'hip joint pain',\n",
              " 'history alcohol consumption',\n",
              " 'increase appetite',\n",
              " 'indigestion',\n",
              " 'inflammatory nail',\n",
              " 'internal itching',\n",
              " 'irregular sugar level',\n",
              " 'irritability',\n",
              " 'irritation anus',\n",
              " 'itch',\n",
              " 'joint pain',\n",
              " 'knee pain',\n",
              " 'lack concentration',\n",
              " 'lethargy',\n",
              " 'loss appetite',\n",
              " 'loss balance',\n",
              " 'loss smell',\n",
              " 'malaise',\n",
              " 'mild fever',\n",
              " 'mood swing',\n",
              " 'movement stiffness',\n",
              " 'mucoid sputum',\n",
              " 'muscle pain',\n",
              " 'muscle wasting',\n",
              " 'muscle weakness',\n",
              " 'nausea',\n",
              " 'neck pain',\n",
              " 'nodal skin eruption',\n",
              " 'obesity',\n",
              " 'pain',\n",
              " 'pain anal region',\n",
              " 'pain bowel movement',\n",
              " 'pain eye',\n",
              " 'painful walking',\n",
              " 'palpitation',\n",
              " 'passage gas',\n",
              " 'patch throat',\n",
              " 'phlegm',\n",
              " 'polyuria',\n",
              " 'prominent vein calf',\n",
              " 'puffy face eye',\n",
              " 'pus fill pimple',\n",
              " 'receive blood transfusion',\n",
              " 'receive unsterile injection',\n",
              " 'red sore nose',\n",
              " 'red spot body',\n",
              " 'redness eye',\n",
              " 'restlessness',\n",
              " 'runny nose',\n",
              " 'rusty sputum',\n",
              " 'scurre',\n",
              " 'shiver',\n",
              " 'silver like dust',\n",
              " 'sink eye',\n",
              " 'sinus pressure',\n",
              " 'skin peeling',\n",
              " 'skin rash',\n",
              " 'slur speech',\n",
              " 'small dent nail',\n",
              " 'spin movement',\n",
              " 'spot urination',\n",
              " 'stiff neck',\n",
              " 'stomach bleed',\n",
              " 'stomach pain',\n",
              " 'sweat',\n",
              " 'swell joint',\n",
              " 'swell lymph node',\n",
              " 'swell stomach',\n",
              " 'swollen blood vessel',\n",
              " 'swollen extremetie',\n",
              " 'swollen leg',\n",
              " 'throat irritation',\n",
              " 'toxic look',\n",
              " 'ulcer tongue',\n",
              " 'unsteadiness',\n",
              " 'visual disturbance',\n",
              " 'vomit',\n",
              " 'water eye',\n",
              " 'weakness body',\n",
              " 'weakness limb',\n",
              " 'weight gain',\n",
              " 'weight loss',\n",
              " 'yellow crust ooze',\n",
              " 'yellow eye',\n",
              " 'yellow skin',\n",
              " 'yellow urine']"
            ]
          },
          "execution_count": 54,
          "metadata": {},
          "output_type": "execute_result"
        }
      ],
      "source": [
        "all_symp_pr"
      ]
    },
    {
      "cell_type": "code",
      "execution_count": null,
      "metadata": {
        "id": "ictOSRBvFW4O"
      },
      "outputs": [],
      "source": [
        "from itertools import chain\n",
        "from nltk.corpus import wordnet\n",
        "def suggest_syn(sym):\n",
        "    symp=[]\n",
        "    synonyms = wordnet.synsets(sym)\n",
        "    lemmas=[word.lemma_names() for word in synonyms]\n",
        "    lemmas = list(set(chain(*lemmas)))\n",
        "    for e in lemmas:\n",
        "        res,sym1=semantic_similarity(e,all_symp_pr)\n",
        "        if res!=0:\n",
        "            symp.append(sym1)\n",
        "    return list(set(symp))"
      ]
    },
    {
      "cell_type": "code",
      "execution_count": null,
      "metadata": {
        "colab": {
          "base_uri": "https://localhost:8080/"
        },
        "id": "u7KNbvdpFcIv",
        "outputId": "18cad63f-cab2-479a-a978-acd664183c8c"
      },
      "outputs": [
        {
          "data": {
            "text/plain": [
              "['unsteadiness', 'malaise', 'blur distorted vision', 'brittle nail']"
            ]
          },
          "execution_count": 56,
          "metadata": {},
          "output_type": "execute_result"
        }
      ],
      "source": [
        "suggest_syn('worried')"
      ]
    },
    {
      "cell_type": "code",
      "execution_count": null,
      "metadata": {
        "id": "9dLZoRhTFe1C"
      },
      "outputs": [],
      "source": [
        "def OHV(cl_sym,all_sym):\n",
        "    l=np.zeros([1,len(all_sym)])\n",
        "    for sym in cl_sym:\n",
        "        l[0,all_sym.index(sym)]=1\n",
        "    return pd.DataFrame(l, columns =all_symp)\n",
        "    "
      ]
    },
    {
      "cell_type": "code",
      "execution_count": null,
      "metadata": {
        "id": "KARge4b9Fo07"
      },
      "outputs": [],
      "source": [
        "def contains(small, big):\n",
        "    a=True\n",
        "    for i in small:\n",
        "        if i not in big:\n",
        "            a=False\n",
        "    return a"
      ]
    },
    {
      "cell_type": "code",
      "execution_count": null,
      "metadata": {
        "colab": {
          "base_uri": "https://localhost:8080/"
        },
        "id": "RcMR87EwFr5k",
        "outputId": "6306d46b-8d8c-4b2f-e6cf-2b9894662c93"
      },
      "outputs": [
        {
          "data": {
            "text/plain": [
              "{'(vertigo) Paroymsal  Positional Vertigo',\n",
              " 'AIDS',\n",
              " 'Acne',\n",
              " 'Alcoholic hepatitis',\n",
              " 'Allergy',\n",
              " 'Arthritis',\n",
              " 'Bronchial Asthma',\n",
              " 'Cervical spondylosis',\n",
              " 'Chicken pox',\n",
              " 'Chronic cholestasis',\n",
              " 'Common Cold',\n",
              " 'Dengue',\n",
              " 'Diabetes ',\n",
              " 'Dimorphic hemmorhoids(piles)',\n",
              " 'Drug Reaction',\n",
              " 'Fungal infection',\n",
              " 'GERD',\n",
              " 'Gastroenteritis',\n",
              " 'Heart attack',\n",
              " 'Hepatitis B',\n",
              " 'Hepatitis C',\n",
              " 'Hepatitis D',\n",
              " 'Hepatitis E',\n",
              " 'Hypertension ',\n",
              " 'Hyperthyroidism',\n",
              " 'Hypoglycemia',\n",
              " 'Hypothyroidism',\n",
              " 'Impetigo',\n",
              " 'Jaundice',\n",
              " 'Malaria',\n",
              " 'Migraine',\n",
              " 'Osteoarthristis',\n",
              " 'Paralysis (brain hemorrhage)',\n",
              " 'Peptic ulcer diseae',\n",
              " 'Pneumonia',\n",
              " 'Psoriasis',\n",
              " 'Tuberculosis',\n",
              " 'Typhoid',\n",
              " 'Urinary tract infection',\n",
              " 'Varicose veins',\n",
              " 'hepatitis A'}"
            ]
          },
          "execution_count": 59,
          "metadata": {},
          "output_type": "execute_result"
        }
      ],
      "source": [
        "def possible_diseases(l):\n",
        "    poss_dis=[]\n",
        "    for dis in set(disease):\n",
        "        if contains(l,symVONdisease(df_tr,dis)):\n",
        "            poss_dis.append(dis)\n",
        "    return poss_dis\n",
        "    \n",
        "set(disease)"
      ]
    },
    {
      "cell_type": "code",
      "execution_count": null,
      "metadata": {
        "colab": {
          "base_uri": "https://localhost:8080/"
        },
        "id": "eOJVrDV0Fuku",
        "outputId": "2764c760-295f-42a7-fd15-f9787e74a558"
      },
      "outputs": [
        {
          "data": {
            "text/plain": [
              "['itching',\n",
              " 'vomiting',\n",
              " 'fatigue',\n",
              " 'weight_loss',\n",
              " 'high_fever',\n",
              " 'yellowish_skin',\n",
              " 'dark_urine',\n",
              " 'abdominal_pain']"
            ]
          },
          "execution_count": 60,
          "metadata": {},
          "output_type": "execute_result"
        }
      ],
      "source": [
        "def symVONdisease(df,disease):\n",
        "    ddf=df[df.prognosis==disease]\n",
        "    m2 = (ddf == 1).any()\n",
        "    return m2.index[m2].tolist()\n",
        "    \n",
        "symVONdisease(df_tr,'Jaundice')"
      ]
    },
    {
      "cell_type": "code",
      "execution_count": null,
      "metadata": {
        "id": "qQc4cYatFzYh"
      },
      "outputs": [],
      "source": [
        "from sklearn.neighbors import KNeighborsClassifier\n",
        "from sklearn.tree import DecisionTreeClassifier\n",
        "from sklearn.metrics import classification_report"
      ]
    },
    {
      "cell_type": "code",
      "execution_count": null,
      "metadata": {
        "id": "TVMJ5d0kF2QC"
      },
      "outputs": [],
      "source": [
        "X_train=df_tr.iloc[:,:-1]\n",
        "X_test=df_tt.iloc[:,:-1]\n",
        "y_train = df_tr.iloc[:,-1]\n",
        "y_test = df_tt.iloc[:,-1]"
      ]
    },
    {
      "cell_type": "code",
      "execution_count": null,
      "metadata": {
        "colab": {
          "base_uri": "https://localhost:8080/"
        },
        "id": "9HKya7RnF3-p",
        "outputId": "8c8561eb-7441-413d-8fbf-f9d077a9a8f7"
      },
      "outputs": [
        {
          "data": {
            "text/plain": [
              "KNeighborsClassifier()"
            ]
          },
          "execution_count": 63,
          "metadata": {},
          "output_type": "execute_result"
        }
      ],
      "source": [
        "knn_clf=KNeighborsClassifier()\n",
        "knn_clf.fit(X_train,y_train)"
      ]
    },
    {
      "cell_type": "code",
      "execution_count": null,
      "metadata": {
        "colab": {
          "base_uri": "https://localhost:8080/"
        },
        "id": "aXTMwXRnF5zM",
        "outputId": "fd36fb3c-7b64-422a-9f9f-ef6b13cec7b3"
      },
      "outputs": [
        {
          "data": {
            "text/plain": [
              "DecisionTreeClassifier()"
            ]
          },
          "execution_count": 64,
          "metadata": {},
          "output_type": "execute_result"
        }
      ],
      "source": [
        "dt_clf = DecisionTreeClassifier()\n",
        "dt_clf.fit(X_train, y_train)"
      ]
    },
    {
      "cell_type": "code",
      "execution_count": null,
      "metadata": {
        "colab": {
          "base_uri": "https://localhost:8080/"
        },
        "id": "m309e5L4F8HE",
        "outputId": "7af0a458-38b3-47eb-94d6-1ca1b8c89ec4"
      },
      "outputs": [
        {
          "name": "stdout",
          "output_type": "stream",
          "text": [
            "                                         precision    recall  f1-score   support\n",
            "\n",
            "(vertigo) Paroymsal  Positional Vertigo       1.00      1.00      1.00         1\n",
            "                                   AIDS       1.00      1.00      1.00         1\n",
            "                                   Acne       1.00      1.00      1.00         1\n",
            "                    Alcoholic hepatitis       1.00      1.00      1.00         1\n",
            "                                Allergy       1.00      1.00      1.00         1\n",
            "                              Arthritis       1.00      1.00      1.00         1\n",
            "                       Bronchial Asthma       1.00      1.00      1.00         1\n",
            "                   Cervical spondylosis       1.00      1.00      1.00         1\n",
            "                            Chicken pox       1.00      1.00      1.00         1\n",
            "                    Chronic cholestasis       1.00      1.00      1.00         1\n",
            "                            Common Cold       1.00      1.00      1.00         1\n",
            "                                 Dengue       1.00      1.00      1.00         1\n",
            "                              Diabetes        1.00      1.00      1.00         1\n",
            "           Dimorphic hemmorhoids(piles)       1.00      1.00      1.00         1\n",
            "                          Drug Reaction       1.00      1.00      1.00         1\n",
            "                       Fungal infection       1.00      1.00      1.00         1\n",
            "                                   GERD       1.00      1.00      1.00         1\n",
            "                        Gastroenteritis       1.00      1.00      1.00         1\n",
            "                           Heart attack       1.00      1.00      1.00         1\n",
            "                            Hepatitis B       1.00      1.00      1.00         1\n",
            "                            Hepatitis C       1.00      1.00      1.00         1\n",
            "                            Hepatitis D       1.00      1.00      1.00         1\n",
            "                            Hepatitis E       1.00      1.00      1.00         1\n",
            "                          Hypertension        1.00      1.00      1.00         1\n",
            "                        Hyperthyroidism       1.00      1.00      1.00         1\n",
            "                           Hypoglycemia       1.00      1.00      1.00         1\n",
            "                         Hypothyroidism       1.00      1.00      1.00         1\n",
            "                               Impetigo       1.00      1.00      1.00         1\n",
            "                               Jaundice       1.00      1.00      1.00         1\n",
            "                                Malaria       1.00      1.00      1.00         1\n",
            "                               Migraine       1.00      1.00      1.00         1\n",
            "                        Osteoarthristis       1.00      1.00      1.00         1\n",
            "           Paralysis (brain hemorrhage)       1.00      1.00      1.00         1\n",
            "                    Peptic ulcer diseae       1.00      1.00      1.00         1\n",
            "                              Pneumonia       1.00      1.00      1.00         1\n",
            "                              Psoriasis       1.00      1.00      1.00         1\n",
            "                           Tuberculosis       1.00      1.00      1.00         1\n",
            "                                Typhoid       1.00      1.00      1.00         1\n",
            "                Urinary tract infection       1.00      1.00      1.00         1\n",
            "                         Varicose veins       1.00      1.00      1.00         1\n",
            "                            hepatitis A       1.00      1.00      1.00         1\n",
            "\n",
            "                               accuracy                           1.00        41\n",
            "                              macro avg       1.00      1.00      1.00        41\n",
            "                           weighted avg       1.00      1.00      1.00        41\n",
            "\n"
          ]
        }
      ],
      "source": [
        "print(classification_report(y_test,knn_clf.predict(X_test)))"
      ]
    },
    {
      "cell_type": "code",
      "execution_count": null,
      "metadata": {
        "colab": {
          "base_uri": "https://localhost:8080/"
        },
        "id": "noNQyCnoF-3u",
        "outputId": "8141b8fc-aa56-40e6-f5c8-87f75f7f3e10"
      },
      "outputs": [
        {
          "name": "stdout",
          "output_type": "stream",
          "text": [
            "                                         precision    recall  f1-score   support\n",
            "\n",
            "(vertigo) Paroymsal  Positional Vertigo       1.00      1.00      1.00         1\n",
            "                                   AIDS       1.00      1.00      1.00         1\n",
            "                                   Acne       1.00      1.00      1.00         1\n",
            "                    Alcoholic hepatitis       1.00      1.00      1.00         1\n",
            "                                Allergy       1.00      1.00      1.00         1\n",
            "                              Arthritis       1.00      1.00      1.00         1\n",
            "                       Bronchial Asthma       1.00      1.00      1.00         1\n",
            "                   Cervical spondylosis       1.00      1.00      1.00         1\n",
            "                            Chicken pox       1.00      1.00      1.00         1\n",
            "                    Chronic cholestasis       1.00      1.00      1.00         1\n",
            "                            Common Cold       1.00      1.00      1.00         1\n",
            "                                 Dengue       1.00      1.00      1.00         1\n",
            "                              Diabetes        1.00      1.00      1.00         1\n",
            "           Dimorphic hemmorhoids(piles)       1.00      1.00      1.00         1\n",
            "                          Drug Reaction       1.00      1.00      1.00         1\n",
            "                       Fungal infection       1.00      1.00      1.00         1\n",
            "                                   GERD       1.00      1.00      1.00         1\n",
            "                        Gastroenteritis       1.00      1.00      1.00         1\n",
            "                           Heart attack       1.00      1.00      1.00         1\n",
            "                            Hepatitis B       1.00      1.00      1.00         1\n",
            "                            Hepatitis C       1.00      1.00      1.00         1\n",
            "                            Hepatitis D       1.00      1.00      1.00         1\n",
            "                            Hepatitis E       1.00      1.00      1.00         1\n",
            "                          Hypertension        1.00      1.00      1.00         1\n",
            "                        Hyperthyroidism       1.00      1.00      1.00         1\n",
            "                           Hypoglycemia       1.00      1.00      1.00         1\n",
            "                         Hypothyroidism       1.00      1.00      1.00         1\n",
            "                               Impetigo       1.00      1.00      1.00         1\n",
            "                               Jaundice       1.00      1.00      1.00         1\n",
            "                                Malaria       1.00      1.00      1.00         1\n",
            "                               Migraine       1.00      1.00      1.00         1\n",
            "                        Osteoarthristis       1.00      1.00      1.00         1\n",
            "           Paralysis (brain hemorrhage)       1.00      1.00      1.00         1\n",
            "                    Peptic ulcer diseae       1.00      1.00      1.00         1\n",
            "                              Pneumonia       1.00      1.00      1.00         1\n",
            "                              Psoriasis       1.00      1.00      1.00         1\n",
            "                           Tuberculosis       1.00      1.00      1.00         1\n",
            "                                Typhoid       1.00      1.00      1.00         1\n",
            "                Urinary tract infection       1.00      1.00      1.00         1\n",
            "                         Varicose veins       1.00      1.00      1.00         1\n",
            "                            hepatitis A       1.00      1.00      1.00         1\n",
            "\n",
            "                               accuracy                           1.00        41\n",
            "                              macro avg       1.00      1.00      1.00        41\n",
            "                           weighted avg       1.00      1.00      1.00        41\n",
            "\n"
          ]
        }
      ],
      "source": [
        "print(classification_report(y_test,dt_clf.predict(X_test)))"
      ]
    },
    {
      "cell_type": "code",
      "execution_count": null,
      "metadata": {
        "colab": {
          "background_save": true
        },
        "id": "vXWDbWJzGBzI"
      },
      "outputs": [],
      "source": [
        "severityDictionary=dict()\n",
        "description_list = dict()\n",
        "precautionDictionary=dict()\n",
        "\n",
        "def getDescription():\n",
        "    global description_list\n",
        "    with open('/content/symptom_Description.csv') as csv_file:\n",
        "        csv_reader = csv.reader(csv_file, delimiter=',')\n",
        "        line_count = 0\n",
        "        for row in csv_reader:\n",
        "            _description={row[0]:row[1]}\n",
        "            description_list.update(_description)\n",
        "\n",
        "\n",
        "\n",
        "\n",
        "def getSeverityDict():\n",
        "    global severityDictionary\n",
        "    with open('/content/symptom_severity.csv') as csv_file:\n",
        "\n",
        "        csv_reader = csv.reader(csv_file, delimiter=',')\n",
        "        line_count = 0\n",
        "        try:\n",
        "            for row in csv_reader:\n",
        "                _diction={row[0]:int(row[1])}\n",
        "                severityDictionary.update(_diction)\n",
        "        except:\n",
        "            pass\n",
        "\n",
        "def getprecautionDict():\n",
        "    global precautionDictionary\n",
        "    with open('/content/symptom_precaution.csv') as csv_file:\n",
        "\n",
        "        csv_reader = csv.reader(csv_file, delimiter=',')\n",
        "        line_count = 0\n",
        "        for row in csv_reader:\n",
        "            _prec={row[0]:[row[1],row[2],row[3],row[4]]}\n",
        "            precautionDictionary.update(_prec)            "
      ]
    },
    {
      "cell_type": "code",
      "execution_count": null,
      "metadata": {
        "colab": {
          "base_uri": "https://localhost:8080/"
        },
        "id": "dzyN9vXzGvt3",
        "outputId": "a643d1eb-e9c1-4d8f-c0f7-7a1322bc25f6"
      },
      "outputs": [
        {
          "data": {
            "text/plain": [
              "{'itching': 1,\n",
              " 'skin_rash': 3,\n",
              " 'nodal_skin_eruptions': 4,\n",
              " 'continuous_sneezing': 4,\n",
              " 'shivering': 5,\n",
              " 'chills': 3,\n",
              " 'joint_pain': 3,\n",
              " 'stomach_pain': 5,\n",
              " 'acidity': 3,\n",
              " 'ulcers_on_tongue': 4,\n",
              " 'muscle_wasting': 3,\n",
              " 'vomiting': 5,\n",
              " 'burning_micturition': 6,\n",
              " 'spotting_urination': 6,\n",
              " 'fatigue': 4,\n",
              " 'weight_gain': 3,\n",
              " 'anxiety': 4,\n",
              " 'cold_hands_and_feets': 5,\n",
              " 'mood_swings': 3,\n",
              " 'weight_loss': 3,\n",
              " 'restlessness': 5,\n",
              " 'lethargy': 2,\n",
              " 'patches_in_throat': 6,\n",
              " 'irregular_sugar_level': 5,\n",
              " 'cough': 4,\n",
              " 'high_fever': 7,\n",
              " 'sunken_eyes': 3,\n",
              " 'breathlessness': 4,\n",
              " 'sweating': 3,\n",
              " 'dehydration': 4,\n",
              " 'indigestion': 5,\n",
              " 'headache': 3,\n",
              " 'yellowish_skin': 3,\n",
              " 'dark_urine': 4,\n",
              " 'nausea': 5,\n",
              " 'loss_of_appetite': 4,\n",
              " 'pain_behind_the_eyes': 4,\n",
              " 'back_pain': 3,\n",
              " 'constipation': 4,\n",
              " 'abdominal_pain': 4,\n",
              " 'diarrhoea': 6,\n",
              " 'mild_fever': 5,\n",
              " 'yellow_urine': 4,\n",
              " 'yellowing_of_eyes': 4,\n",
              " 'acute_liver_failure': 6,\n",
              " 'fluid_overload': 4,\n",
              " 'swelling_of_stomach': 7,\n",
              " 'swelled_lymph_nodes': 6,\n",
              " 'malaise': 6,\n",
              " 'blurred_and_distorted_vision': 5,\n",
              " 'phlegm': 5,\n",
              " 'throat_irritation': 4,\n",
              " 'redness_of_eyes': 5,\n",
              " 'sinus_pressure': 4,\n",
              " 'runny_nose': 5,\n",
              " 'congestion': 5,\n",
              " 'chest_pain': 7,\n",
              " 'weakness_in_limbs': 7,\n",
              " 'fast_heart_rate': 5,\n",
              " 'pain_during_bowel_movements': 5,\n",
              " 'pain_in_anal_region': 6,\n",
              " 'bloody_stool': 5,\n",
              " 'irritation_in_anus': 6,\n",
              " 'neck_pain': 5,\n",
              " 'dizziness': 4,\n",
              " 'cramps': 4,\n",
              " 'bruising': 4,\n",
              " 'obesity': 4,\n",
              " 'swollen_legs': 5,\n",
              " 'swollen_blood_vessels': 5,\n",
              " 'puffy_face_and_eyes': 5,\n",
              " 'enlarged_thyroid': 6,\n",
              " 'brittle_nails': 5,\n",
              " 'swollen_extremeties': 5,\n",
              " 'excessive_hunger': 4,\n",
              " 'extra_marital_contacts': 5,\n",
              " 'drying_and_tingling_lips': 4,\n",
              " 'slurred_speech': 4,\n",
              " 'knee_pain': 3,\n",
              " 'hip_joint_pain': 2,\n",
              " 'muscle_weakness': 2,\n",
              " 'stiff_neck': 4,\n",
              " 'swelling_joints': 5,\n",
              " 'movement_stiffness': 5,\n",
              " 'spinning_movements': 6,\n",
              " 'loss_of_balance': 4,\n",
              " 'unsteadiness': 4,\n",
              " 'weakness_of_one_body_side': 4,\n",
              " 'loss_of_smell': 3,\n",
              " 'bladder_discomfort': 4,\n",
              " 'foul_smell_ofurine': 5,\n",
              " 'continuous_feel_of_urine': 6,\n",
              " 'passage_of_gases': 5,\n",
              " 'internal_itching': 4,\n",
              " 'toxic_look_(typhos)': 5,\n",
              " 'depression': 3,\n",
              " 'irritability': 2,\n",
              " 'muscle_pain': 2,\n",
              " 'altered_sensorium': 2,\n",
              " 'red_spots_over_body': 3,\n",
              " 'belly_pain': 4,\n",
              " 'abnormal_menstruation': 6,\n",
              " 'dischromic_patches': 6,\n",
              " 'watering_from_eyes': 4,\n",
              " 'increased_appetite': 5,\n",
              " 'polyuria': 4,\n",
              " 'family_history': 5,\n",
              " 'mucoid_sputum': 4,\n",
              " 'rusty_sputum': 4,\n",
              " 'lack_of_concentration': 3,\n",
              " 'visual_disturbances': 3,\n",
              " 'receiving_blood_transfusion': 5,\n",
              " 'receiving_unsterile_injections': 2,\n",
              " 'coma': 7,\n",
              " 'stomach_bleeding': 6,\n",
              " 'distention_of_abdomen': 4,\n",
              " 'history_of_alcohol_consumption': 5,\n",
              " 'blood_in_sputum': 5,\n",
              " 'prominent_veins_on_calf': 6,\n",
              " 'palpitations': 4,\n",
              " 'painful_walking': 2,\n",
              " 'pus_filled_pimples': 2,\n",
              " 'blackheads': 2,\n",
              " 'scurring': 2,\n",
              " 'skin_peeling': 3,\n",
              " 'silver_like_dusting': 2,\n",
              " 'small_dents_in_nails': 2,\n",
              " 'inflammatory_nails': 2,\n",
              " 'blister': 4,\n",
              " 'red_sore_around_nose': 2,\n",
              " 'yellow_crust_ooze': 3}"
            ]
          },
          "execution_count": 68,
          "metadata": {},
          "output_type": "execute_result"
        }
      ],
      "source": [
        "getSeverityDict()\n",
        "getprecautionDict()\n",
        "getDescription()\n",
        "\n",
        "severityDictionary"
      ]
    },
    {
      "cell_type": "code",
      "execution_count": null,
      "metadata": {
        "id": "KomVdKWDGzww"
      },
      "outputs": [],
      "source": [
        "def calc_condition(exp,days):\n",
        "    sum=0\n",
        "    for item in exp:\n",
        "        if item in severityDictionary.keys():\n",
        "            sum=sum+severityDictionary[item]\n",
        "    if((sum*days)/(len(exp))>13):\n",
        "        return 1\n",
        "        print(\"You should take the consultation from doctor. \")\n",
        "    else:\n",
        "        return 0\n",
        "        print(\"It might not be that bad but you should take precautions.\")"
      ]
    },
    {
      "cell_type": "code",
      "execution_count": null,
      "metadata": {
        "id": "lf1V6doIG32V"
      },
      "outputs": [],
      "source": [
        "def getInfo():\n",
        "    # name=input(\"Name:\")\n",
        "    print(\"Your Name \\n\\t\\t\\t\\t\\t\\t\",end=\"=>\")\n",
        "    name=input(\"\")\n",
        "    print(\"hello \",name)\n",
        "    return str(name)\n",
        "    \n",
        "def related_sym(psym1):\n",
        "    if len(psym1)==1:\n",
        "        return psym1[0]\n",
        "    print(\"searches related to input: \")\n",
        "    for num,it in enumerate(psym1):\n",
        "        print(num,\")\",clean_symp(it))\n",
        "    if num!=0:\n",
        "        print(f\"Select the one you meant (0 - {num}):  \", end=\"\")\n",
        "        conf_inp = int(input(\"\"))\n",
        "    else:\n",
        "        conf_inp=0\n",
        "\n",
        "    disease_input=psym1[conf_inp]\n",
        "    return disease_input"
      ]
    },
    {
      "cell_type": "code",
      "execution_count": null,
      "metadata": {
        "id": "kHE8aIscG76t"
      },
      "outputs": [],
      "source": [
        "def main_sp(name,all_symp_col):\n",
        "    #main Idea: At least two initial sympts to start with\n",
        "    \n",
        "    #get the 1st syp ->> process it ->> check_pattern ->>> get the appropriate one (if check_pattern==1 == similar syntaxic symp found)\n",
        "    print(\"Enter the main symptom you are experiencing Mr/Ms \"+name+\"  \\n\\t\\t\\t\\t\\t\\t\",end=\"=>\")\n",
        "    sym1 = input(\"\")\n",
        "    sym1=preprocess_sym(sym1)\n",
        "    sim1,psym1=syntactic_similarity(sym1,all_symp_pr)\n",
        "    if sim1==1:\n",
        "        psym1=related_sym(psym1)\n",
        "    \n",
        "    #get the 2nd syp ->> process it ->> check_pattern ->>> get the appropriate one (if check_pattern==1 == similar syntaxic symp found)\n",
        "\n",
        "    print(\"Enter a second symptom you are experiencing Mr/Ms \"+name+\"  \\n\\t\\t\\t\\t\\t\\t\",end=\"=>\")\n",
        "    sym2=input(\"\")\n",
        "    sym2=preprocess_sym(sym2)\n",
        "    sim2,psym2=syntactic_similarity(sym2,all_symp_pr)\n",
        "    if sim2==1:\n",
        "        psym2=related_sym(psym2)\n",
        "        \n",
        "    #if check_pattern==0 no similar syntaxic symp1 or symp2 ->> try semantic similarity\n",
        "    \n",
        "    if sim1==0 or sim2==0:\n",
        "        sim1,psym1=semantic_similarity(sym1,all_symp_pr)\n",
        "        sim2,psym2=semantic_similarity(sym2,all_symp_pr)\n",
        "        \n",
        "        #if semantic sim syp1 ==0 (no symp found) ->> suggest possible data symptoms based on all data and input sym synonymes\n",
        "        if sim1==0:\n",
        "            sugg=suggest_syn(sym1)\n",
        "            print('Are you experiencing any ')\n",
        "            for res in sugg:\n",
        "                print(res)\n",
        "                inp=input('')\n",
        "                if inp==\"yes\":\n",
        "                    psym1=res\n",
        "                    sim1=1\n",
        "                    break\n",
        "                \n",
        "        #if semantic sim syp2 ==0 (no symp found) ->> suggest possible data symptoms based on all data and input sym synonymes\n",
        "        if sim2==0:\n",
        "            sugg=suggest_syn(sym2)\n",
        "            for res in sugg:\n",
        "                inp=input('Do you feel '+ res+\" ?(yes or no) \")\n",
        "                if inp==\"yes\":\n",
        "                    psym2=res\n",
        "                    sim2=1\n",
        "                    break\n",
        "        #if no syntaxic semantic and suggested sym found return None and ask for clarification\n",
        "\n",
        "        if sim1==0 and sim2==0:\n",
        "            return None,None\n",
        "        else:\n",
        "            # if at least one sym found ->> duplicate it and proceed\n",
        "            if sim1==0:\n",
        "                psym1=psym2\n",
        "            if sim2==0:\n",
        "                psym2=psym1\n",
        "    #create patient symp list\n",
        "    all_sym=[col_dict[psym1],col_dict[psym2]]\n",
        "    #predict possible diseases\n",
        "    diseases=possible_diseases(all_sym)\n",
        "    stop=False\n",
        "    print(\"Are you experiencing any \")\n",
        "    for dis in diseases:\n",
        "        print(diseases)\n",
        "        if stop==False:\n",
        "            for sym in symVONdisease(df_tr,dis):\n",
        "                if sym not in all_sym:\n",
        "                    print(clean_symp(sym)+' ?')\n",
        "                    while True:\n",
        "                        inp=input(\"\")\n",
        "                        if(inp==\"yes\" or inp==\"no\"):\n",
        "                            break\n",
        "                        else:\n",
        "                            print(\"provide proper answers i.e. (yes/no) : \",end=\"\")\n",
        "                    if inp==\"yes\":\n",
        "                        all_sym.append(sym)\n",
        "                        diseases=possible_diseases(all_sym)\n",
        "                        if len(diseases)==1:\n",
        "                            stop=True \n",
        "    return knn_clf.predict(OHV(all_sym,all_symp_col)),all_sym\n"
      ]
    },
    {
      "cell_type": "code",
      "execution_count": null,
      "metadata": {
        "id": "J4S0FJ28HEvs"
      },
      "outputs": [],
      "source": [
        "def chat_sp():\n",
        "    a=True\n",
        "    while a:\n",
        "        name=getInfo()\n",
        "        result,sym=main_sp(name,all_symp_col)\n",
        "        if result == None :\n",
        "            ans3=input(\"can you specify more what you feel or tap q to stop the conversation\")\n",
        "            if ans3==\"q\":\n",
        "                a=False\n",
        "            else:\n",
        "                continue\n",
        "\n",
        "        else:\n",
        "            print(\"you may have \"+result[0])\n",
        "            print(description_list[result[0]])\n",
        "            an=input(\"how many day do you feel those symptoms ?\")\n",
        "            if calc_condition(sym,int(an))==1:\n",
        "                print(\"you should take the consultation from doctor\")\n",
        "            else : \n",
        "                print('Take following precautions : ')\n",
        "                for e in precautionDictionary[result[0]]:\n",
        "                    print(e)\n",
        "            print(\"do you need another medical consultation (yes or no)? \")\n",
        "            ans=input()\n",
        "            if ans!=\"yes\":\n",
        "                a=False\n",
        "                print(\"!!!!! thanks for using ower application !!!!!! \")"
      ]
    },
    {
      "cell_type": "code",
      "execution_count": null,
      "metadata": {
        "colab": {
          "base_uri": "https://localhost:8080/"
        },
        "id": "R1z-5RLPHJZ-",
        "outputId": "488de57e-d49c-4a19-f4eb-39f893aa1f6c"
      },
      "outputs": [
        {
          "data": {
            "text/plain": [
              "['itching',\n",
              " 'vomiting',\n",
              " 'fatigue',\n",
              " 'weight_loss',\n",
              " 'high_fever',\n",
              " 'yellowish_skin',\n",
              " 'dark_urine',\n",
              " 'abdominal_pain']"
            ]
          },
          "execution_count": 73,
          "metadata": {},
          "output_type": "execute_result"
        }
      ],
      "source": [
        "symVONdisease(df_tr,\"Jaundice\")"
      ]
    },
    {
      "cell_type": "code",
      "execution_count": null,
      "metadata": {
        "colab": {
          "base_uri": "https://localhost:8080/"
        },
        "id": "ZqqDJYKxHPlq",
        "outputId": "c32fb701-19a0-4d70-c57d-4801baef947b"
      },
      "outputs": [
        {
          "name": "stderr",
          "output_type": "stream",
          "text": [
            "/usr/local/lib/python3.7/dist-packages/sklearn/base.py:493: FutureWarning: The feature names should match those that were passed during fit. Starting version 1.2, an error will be raised.\n",
            "Feature names unseen at fit time:\n",
            "- abdominal pain\n",
            "- abnormal menstruation\n",
            "- acute liver failure\n",
            "- altered sensorium\n",
            "- back pain\n",
            "- ...\n",
            "Feature names seen at fit time, yet now missing:\n",
            "- abdominal_pain\n",
            "- abnormal_menstruation\n",
            "- acute_liver_failure\n",
            "- altered_sensorium\n",
            "- back_pain\n",
            "- ...\n",
            "\n",
            "  warnings.warn(message, FutureWarning)\n"
          ]
        },
        {
          "data": {
            "text/plain": [
              "array(['Jaundice'], dtype=object)"
            ]
          },
          "execution_count": 74,
          "metadata": {},
          "output_type": "execute_result"
        }
      ],
      "source": [
        "knn_clf.predict(OHV(['fatigue', 'weight_loss', 'itching','high_fever'],all_symp_col))"
      ]
    },
    {
      "cell_type": "code",
      "execution_count": null,
      "metadata": {
        "colab": {
          "base_uri": "https://localhost:8080/"
        },
        "id": "gbMcSwjNHS03",
        "outputId": "4f306e36-5554-4467-c4b3-a89f1f68db18"
      },
      "outputs": [
        {
          "data": {
            "text/plain": [
              "Index(['itching', 'skin_rash', 'nodal_skin_eruptions', 'dischromic _patches',\n",
              "       'prognosis'],\n",
              "      dtype='object')"
            ]
          },
          "execution_count": 75,
          "metadata": {},
          "output_type": "execute_result"
        }
      ],
      "source": [
        "d=df_tr[df_tr.iloc[:,-1]==\"Fungal infection\"].sum(axis=0)\n",
        "cl=df_tr.columns\n",
        "pp=d!=0\n",
        "cl[pp]"
      ]
    },
    {
      "cell_type": "code",
      "execution_count": null,
      "metadata": {
        "colab": {
          "base_uri": "https://localhost:8080/"
        },
        "id": "Ld1VVUEoHa49",
        "outputId": "f94e88d9-cce4-423a-9046-fe6ac5e02b6c"
      },
      "outputs": [
        {
          "data": {
            "text/plain": [
              "itching                 108\n",
              "skin_rash               108\n",
              "nodal_skin_eruptions    108\n",
              "dischromic _patches     108\n",
              "dtype: object"
            ]
          },
          "execution_count": 76,
          "metadata": {},
          "output_type": "execute_result"
        }
      ],
      "source": [
        "d[pp].drop('prognosis')"
      ]
    },
    {
      "cell_type": "code",
      "execution_count": null,
      "metadata": {
        "colab": {
          "base_uri": "https://localhost:8080/"
        },
        "id": "eHWm91FiHdkF",
        "outputId": "890722a4-bc70-4a62-b07d-0c60255f842c"
      },
      "outputs": [
        {
          "name": "stdout",
          "output_type": "stream",
          "text": [
            "Your Name \n",
            "\t\t\t\t\t\t=>insha\n",
            "hello  insha\n",
            "Enter the main symptom you are experiencing Mr/Ms insha  \n",
            "\t\t\t\t\t\t=>cough\n",
            "Enter a second symptom you are experiencing Mr/Ms insha  \n",
            "\t\t\t\t\t\t=>fever\n",
            "searches related to input: \n",
            "0 ) mild fever\n",
            "1 ) high fever\n",
            "Select the one you meant (0 - 1):  0\n",
            "Are you experiencing any \n",
            "['Tuberculosis']\n",
            "chills ?\n",
            "yes\n",
            "vomiting ?\n",
            "no\n",
            "fatigue ?\n",
            "yes\n",
            "weight loss ?\n",
            "no\n",
            "high fever ?\n",
            "no\n",
            "breathlessness ?\n",
            "no\n",
            "sweating ?\n",
            "no\n",
            "loss of appetite ?\n",
            "no\n",
            "yellow of eyes ?\n",
            "no\n",
            "swelled lymph nodes ?\n",
            "no\n",
            "malaise ?\n",
            "no\n",
            "phlegm ?\n",
            "no\n",
            "chest pain ?\n",
            "yes\n",
            "blood in sputum ?\n",
            "no\n"
          ]
        },
        {
          "name": "stderr",
          "output_type": "stream",
          "text": [
            "/usr/local/lib/python3.7/dist-packages/sklearn/base.py:493: FutureWarning: The feature names should match those that were passed during fit. Starting version 1.2, an error will be raised.\n",
            "Feature names unseen at fit time:\n",
            "- abdominal pain\n",
            "- abnormal menstruation\n",
            "- acute liver failure\n",
            "- altered sensorium\n",
            "- back pain\n",
            "- ...\n",
            "Feature names seen at fit time, yet now missing:\n",
            "- abdominal_pain\n",
            "- abnormal_menstruation\n",
            "- acute_liver_failure\n",
            "- altered_sensorium\n",
            "- back_pain\n",
            "- ...\n",
            "\n",
            "  warnings.warn(message, FutureWarning)\n"
          ]
        },
        {
          "name": "stdout",
          "output_type": "stream",
          "text": [
            "you may have Heart attack\n",
            "The death of heart muscle due to the loss of blood supply. The loss of blood supply is usually caused by a complete blockage of a coronary artery, one of the arteries that supplies blood to the heart muscle.\n",
            "how many day do you feel those symptoms ?2\n",
            "Take following precautions : \n",
            "call ambulance\n",
            "chew or swallow asprin\n",
            "keep calm\n",
            "\n",
            "do you need another medical consultation (yes or no)? \n",
            "yes\n",
            "Your Name \n",
            "\t\t\t\t\t\t=>shaikh\n",
            "hello  shaikh\n",
            "Enter the main symptom you are experiencing Mr/Ms shaikh  \n",
            "\t\t\t\t\t\t=>fatigue\n",
            "Enter a second symptom you are experiencing Mr/Ms shaikh  \n",
            "\t\t\t\t\t\t=>cough\n",
            "Are you experiencing any \n",
            "['Tuberculosis', 'Pneumonia', 'Common Cold', 'Bronchial Asthma']\n",
            "chills ?\n",
            "yes\n",
            "vomiting ?\n",
            "no\n",
            "weight loss ?\n",
            "no\n",
            "high fever ?\n",
            "no\n",
            "breathlessness ?\n",
            "no\n",
            "sweating ?\n",
            "no\n",
            "loss of appetite ?\n",
            "no\n",
            "mild fever ?\n",
            "no\n",
            "yellow of eyes ?\n",
            "no\n",
            "swelled lymph nodes ?\n",
            "no\n",
            "malaise ?\n",
            "no\n",
            "phlegm ?\n",
            "no\n",
            "chest pain ?\n",
            "no\n",
            "blood in sputum ?\n",
            "no\n",
            "['Tuberculosis', 'Pneumonia', 'Common Cold']\n",
            "high fever ?\n",
            "no\n",
            "breathlessness ?\n",
            "no\n",
            "sweating ?\n",
            "no\n",
            "malaise ?\n",
            "no\n",
            "phlegm ?\n",
            "no\n",
            "chest pain ?\n",
            "yes\n",
            "fast heart rate ?\n",
            "no\n",
            "rusty sputum ?\n",
            "no\n",
            "['Tuberculosis', 'Pneumonia', 'Common Cold']\n",
            "continuous sneezing ?\n",
            "yes\n",
            "high fever ?\n",
            "no\n",
            "headache ?\n",
            "no\n",
            "swelled lymph nodes ?\n",
            "no\n",
            "malaise ?\n",
            "no\n",
            "phlegm ?\n",
            "no\n",
            "throat irritation ?\n",
            "no\n",
            "redness of eyes ?\n",
            "no\n",
            "sinus pressure ?\n",
            "no\n",
            "runny nose ?\n",
            "yes\n",
            "congestion ?\n",
            "no\n",
            "loss of smell ?\n",
            "no\n",
            "muscle pain ?\n",
            "no\n"
          ]
        },
        {
          "name": "stderr",
          "output_type": "stream",
          "text": [
            "/usr/local/lib/python3.7/dist-packages/sklearn/base.py:493: FutureWarning: The feature names should match those that were passed during fit. Starting version 1.2, an error will be raised.\n",
            "Feature names unseen at fit time:\n",
            "- abdominal pain\n",
            "- abnormal menstruation\n",
            "- acute liver failure\n",
            "- altered sensorium\n",
            "- back pain\n",
            "- ...\n",
            "Feature names seen at fit time, yet now missing:\n",
            "- abdominal_pain\n",
            "- abnormal_menstruation\n",
            "- acute_liver_failure\n",
            "- altered_sensorium\n",
            "- back_pain\n",
            "- ...\n",
            "\n",
            "  warnings.warn(message, FutureWarning)\n"
          ]
        },
        {
          "name": "stdout",
          "output_type": "stream",
          "text": [
            "['Common Cold']\n",
            "you may have Allergy\n",
            "An allergy is an immune system response to a foreign substance that's not typically harmful to your body.They can include certain foods, pollen, or pet dander. Your immune system's job is to keep you healthy by fighting harmful pathogens.\n",
            "how many day do you feel those symptoms ?3\n",
            "you should take the consultation from doctor\n",
            "do you need another medical consultation (yes or no)? \n",
            "no\n",
            "!!!!! thanks for using ower application !!!!!! \n"
          ]
        }
      ],
      "source": [
        "chat_sp()"
      ]
    },
    {
      "cell_type": "code",
      "execution_count": null,
      "metadata": {
        "id": "zCBAoDiVHfWL"
      },
      "outputs": [],
      "source": []
    }
  ],
  "metadata": {
    "colab": {
      "collapsed_sections": [],
      "provenance": []
    },
    "kernelspec": {
      "display_name": "Python 3",
      "name": "python3"
    },
    "language_info": {
      "name": "python"
    }
  },
  "nbformat": 4,
  "nbformat_minor": 0
}